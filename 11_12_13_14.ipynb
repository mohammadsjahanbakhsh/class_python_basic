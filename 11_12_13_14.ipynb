{
  "nbformat": 4,
  "nbformat_minor": 0,
  "metadata": {
    "colab": {
      "private_outputs": true,
      "provenance": [],
      "authorship_tag": "ABX9TyOLBAKlNMlE/mHWz8Gg8/7O",
      "include_colab_link": true
    },
    "kernelspec": {
      "name": "python3",
      "display_name": "Python 3"
    },
    "language_info": {
      "name": "python"
    }
  },
  "cells": [
    {
      "cell_type": "markdown",
      "metadata": {
        "id": "view-in-github",
        "colab_type": "text"
      },
      "source": [
        "<a href=\"https://colab.research.google.com/github/mohammadsjahanbakhsh/class_python_basic/blob/main/11_12_13_14.ipynb\" target=\"_parent\"><img src=\"https://colab.research.google.com/assets/colab-badge.svg\" alt=\"Open In Colab\"/></a>"
      ]
    },
    {
      "cell_type": "markdown",
      "source": [
        "# read & write files"
      ],
      "metadata": {
        "id": "8xCyeX7VFi3l"
      }
    },
    {
      "cell_type": "markdown",
      "source": [
        "\n",
        "r read\n",
        "\n",
        "w write\n",
        "\n",
        "a append\n",
        "\n",
        "rb  read image & sound\n",
        "\n",
        "wb ..."
      ],
      "metadata": {
        "id": "Q_oYYTgMkl7v"
      }
    },
    {
      "cell_type": "code",
      "source": [
        "!wget https://raw.githubusercontent.com/mohammadsjahanbakhsh/class_python_basic/main/test.txt"
      ],
      "metadata": {
        "id": "ITefcxVjFef1"
      },
      "execution_count": null,
      "outputs": []
    },
    {
      "cell_type": "code",
      "execution_count": null,
      "metadata": {
        "id": "l0pxqd7tf77F"
      },
      "outputs": [],
      "source": [
        "file=open(\"test.txt\",\"r\")"
      ]
    },
    {
      "cell_type": "code",
      "source": [
        "file.read()"
      ],
      "metadata": {
        "id": "qK_LqvVjlpwq"
      },
      "execution_count": null,
      "outputs": []
    },
    {
      "cell_type": "code",
      "source": [
        "file.close()"
      ],
      "metadata": {
        "id": "UqZb2hl6k9_9"
      },
      "execution_count": null,
      "outputs": []
    },
    {
      "cell_type": "code",
      "source": [
        "file=open(\"test.txt\",\"r\")"
      ],
      "metadata": {
        "id": "cfoCbPgOld0A"
      },
      "execution_count": null,
      "outputs": []
    },
    {
      "cell_type": "code",
      "source": [
        "a=file.read(3)\n",
        "print(a)"
      ],
      "metadata": {
        "id": "lXVWfGxAlBsl"
      },
      "execution_count": null,
      "outputs": []
    },
    {
      "cell_type": "code",
      "source": [
        "file.read(3)"
      ],
      "metadata": {
        "id": "7YQ35cEhssVb"
      },
      "execution_count": null,
      "outputs": []
    },
    {
      "cell_type": "code",
      "source": [
        "type(file)"
      ],
      "metadata": {
        "id": "oNd628-Zs1w9"
      },
      "execution_count": null,
      "outputs": []
    },
    {
      "cell_type": "code",
      "source": [
        "print(file.read())"
      ],
      "metadata": {
        "id": "nuO6YnaAlSSf"
      },
      "execution_count": null,
      "outputs": []
    },
    {
      "cell_type": "code",
      "source": [
        "file.close()"
      ],
      "metadata": {
        "id": "BmJsXOpollMy"
      },
      "execution_count": null,
      "outputs": []
    },
    {
      "cell_type": "code",
      "source": [
        "file=open(\"test.txt\",\"r\")"
      ],
      "metadata": {
        "id": "Gc01oBo0lufw"
      },
      "execution_count": null,
      "outputs": []
    },
    {
      "cell_type": "code",
      "source": [
        "file.readline()"
      ],
      "metadata": {
        "id": "0reTfgLUtGw6"
      },
      "execution_count": null,
      "outputs": []
    },
    {
      "cell_type": "code",
      "source": [
        "file.readlines()"
      ],
      "metadata": {
        "id": "6lmCfGwqmX1z"
      },
      "execution_count": null,
      "outputs": []
    },
    {
      "cell_type": "code",
      "source": [
        "file=open(\"test.txt\",\"r\")"
      ],
      "metadata": {
        "id": "bvBZfqtNmZkq"
      },
      "execution_count": null,
      "outputs": []
    },
    {
      "cell_type": "code",
      "source": [
        "for l in file:\n",
        "  print(l,end=\",\")"
      ],
      "metadata": {
        "id": "EErDhXBqmlZi"
      },
      "execution_count": null,
      "outputs": []
    },
    {
      "cell_type": "code",
      "source": [
        "file.close()"
      ],
      "metadata": {
        "id": "ZxGOJHkAmoF9"
      },
      "execution_count": null,
      "outputs": []
    },
    {
      "cell_type": "code",
      "source": [
        "file2 = open(\"test2.txt\",\"w\")\n",
        "\n",
        "file2.write(\"This is a test for writting a text\")"
      ],
      "metadata": {
        "id": "jfTaabM4mzY6"
      },
      "execution_count": null,
      "outputs": []
    },
    {
      "cell_type": "code",
      "source": [
        "file2.close()"
      ],
      "metadata": {
        "id": "sBfw541KnMyV"
      },
      "execution_count": null,
      "outputs": []
    },
    {
      "cell_type": "code",
      "source": [
        "file2 = open(\"test2.txt\",\"r\")\n"
      ],
      "metadata": {
        "id": "TiBSDTg9nSOj"
      },
      "execution_count": null,
      "outputs": []
    },
    {
      "cell_type": "code",
      "source": [
        "file2.read()"
      ],
      "metadata": {
        "id": "p38pMgoZnVOE"
      },
      "execution_count": null,
      "outputs": []
    },
    {
      "cell_type": "code",
      "source": [
        "file2.close()"
      ],
      "metadata": {
        "id": "aLcz0DpdnXCu"
      },
      "execution_count": null,
      "outputs": []
    },
    {
      "cell_type": "code",
      "source": [
        "names=[\"ali\",\"reza\",\"mahsa\"]\n",
        "scores=[12,14,17]\n",
        "dict_scores = {k:str(v) for k,v in zip(names,scores)}\n",
        "dict_scores"
      ],
      "metadata": {
        "id": "uIFppoxHnl7D"
      },
      "execution_count": null,
      "outputs": []
    },
    {
      "cell_type": "code",
      "source": [
        "s = []\n",
        "for i in dict_scores.items():\n",
        "    s.append(\":\".join(i))\n",
        "\n",
        "\n",
        "s2=\"\\n\".join(s)\n",
        "print(s2)"
      ],
      "metadata": {
        "id": "tqnsdq_gn_rU"
      },
      "execution_count": null,
      "outputs": []
    },
    {
      "cell_type": "code",
      "source": [
        "file=open(\"test2.txt\",'w')\n",
        "l=file.write(s2)\n",
        "file.close()"
      ],
      "metadata": {
        "id": "8L1SYcyfonQM"
      },
      "execution_count": null,
      "outputs": []
    },
    {
      "cell_type": "code",
      "source": [
        "l == len(s2)"
      ],
      "metadata": {
        "id": "nbO7oyC-ps1s"
      },
      "execution_count": null,
      "outputs": []
    },
    {
      "cell_type": "code",
      "source": [
        "\n",
        "file.close()"
      ],
      "metadata": {
        "id": "iaU4vKtLp__K"
      },
      "execution_count": null,
      "outputs": []
    },
    {
      "cell_type": "code",
      "source": [
        "try:\n",
        "  f=open(\"test2.txt\",'r')\n",
        "  print(f.read())\n",
        "\n",
        "finally:\n",
        "  f.close()"
      ],
      "metadata": {
        "id": "GHMErLhCpv4r"
      },
      "execution_count": null,
      "outputs": []
    },
    {
      "cell_type": "code",
      "source": [
        "import numpy as np"
      ],
      "metadata": {
        "id": "nzjyujkKueZ8"
      },
      "execution_count": null,
      "outputs": []
    },
    {
      "cell_type": "code",
      "source": [],
      "metadata": {
        "id": "dEZfKPIDuhLN"
      },
      "execution_count": null,
      "outputs": []
    },
    {
      "cell_type": "code",
      "source": [
        "with open(\"test2.txt\",'r') as f:\n",
        "  print(f.read())"
      ],
      "metadata": {
        "id": "4kc8_DieqeKc"
      },
      "execution_count": null,
      "outputs": []
    },
    {
      "cell_type": "code",
      "source": [],
      "metadata": {
        "id": "FDw2EZRpqqZr"
      },
      "execution_count": null,
      "outputs": []
    },
    {
      "cell_type": "code",
      "source": [
        "import pandas as pd"
      ],
      "metadata": {
        "id": "JO3Ldz1vvC8K"
      },
      "execution_count": null,
      "outputs": []
    },
    {
      "cell_type": "code",
      "source": [],
      "metadata": {
        "id": "wWvPidCFvEnK"
      },
      "execution_count": null,
      "outputs": []
    },
    {
      "cell_type": "code",
      "source": [
        "pd.read_csv(\"/content/sample_data/california_housing_train.csv\")"
      ],
      "metadata": {
        "id": "04zGGiIN0rh6"
      },
      "execution_count": null,
      "outputs": []
    },
    {
      "cell_type": "code",
      "source": [
        "pd.read_json(\"/content/sample_data/anscombe.json\")"
      ],
      "metadata": {
        "id": "RC_-qmkY1X3a"
      },
      "execution_count": null,
      "outputs": []
    },
    {
      "cell_type": "markdown",
      "source": [
        "# regex\n",
        "\n",
        "[link ](https://www.w3schools.com/python/python_regex.asp)"
      ],
      "metadata": {
        "id": "B3W9POUY1YBp"
      }
    },
    {
      "cell_type": "code",
      "source": [
        "import re"
      ],
      "metadata": {
        "id": "M1Sst6Cu14pJ"
      },
      "execution_count": null,
      "outputs": []
    },
    {
      "cell_type": "code",
      "source": [
        "pattern = r\"spam\"\n",
        "\n",
        "if re.match(pattern , \"spamspamspamsfdadf\"):\n",
        "  print(\"هست\")\n",
        "else:\n",
        "  print(\"نیست\")"
      ],
      "metadata": {
        "id": "8RPw6ZNj18OL"
      },
      "execution_count": null,
      "outputs": []
    },
    {
      "cell_type": "code",
      "source": [
        "if re.search(pattern , \"spamspamspamsfdadf\"):\n",
        "  print(\"هست\")\n",
        "else:\n",
        "  print(\"نیست\")"
      ],
      "metadata": {
        "id": "eTtZsbFs2fkJ"
      },
      "execution_count": null,
      "outputs": []
    },
    {
      "cell_type": "code",
      "source": [
        "re.findall(pattern , \"spamspamspamsfdadf\")\n"
      ],
      "metadata": {
        "id": "3yk2CW-52ju5"
      },
      "execution_count": null,
      "outputs": []
    },
    {
      "cell_type": "code",
      "source": [
        "m=re.search(pattern , \"spamspamspamsfdadf\")\n",
        "m.group()\n"
      ],
      "metadata": {
        "id": "-GbS9vd62zgo"
      },
      "execution_count": null,
      "outputs": []
    },
    {
      "cell_type": "code",
      "source": [
        "m.string"
      ],
      "metadata": {
        "id": "Z2lfwg7UMKuI"
      },
      "execution_count": null,
      "outputs": []
    },
    {
      "cell_type": "code",
      "source": [
        "m.start()"
      ],
      "metadata": {
        "id": "dt98GTmI3DzK"
      },
      "execution_count": null,
      "outputs": []
    },
    {
      "cell_type": "code",
      "source": [
        "m.end()"
      ],
      "metadata": {
        "id": "ASFaB-8y28wK"
      },
      "execution_count": null,
      "outputs": []
    },
    {
      "cell_type": "code",
      "source": [
        "\"spamspamspamsfdadf\"[0:4]"
      ],
      "metadata": {
        "id": "sPbj-0kf3J_4"
      },
      "execution_count": null,
      "outputs": []
    },
    {
      "cell_type": "code",
      "source": [
        "m.span()"
      ],
      "metadata": {
        "id": "EpbKPjkh3PXp"
      },
      "execution_count": null,
      "outputs": []
    },
    {
      "cell_type": "code",
      "source": [
        "new_str = re.sub(pattern , \"XX\" ,\"spamspamspamsfdadf\" ,count=1)\n",
        "new_str"
      ],
      "metadata": {
        "id": "Idh5fj5A3WOY"
      },
      "execution_count": null,
      "outputs": []
    },
    {
      "cell_type": "code",
      "source": [
        "p2 = r\"sp..\"\n",
        "re.findall(p2 , \"spamspamspamsfdadf\")"
      ],
      "metadata": {
        "id": "F7ZjxgGE389Z"
      },
      "execution_count": null,
      "outputs": []
    },
    {
      "cell_type": "code",
      "source": [
        "p3 = r\"^s..m\"\n",
        "re.findall(p3 , \"spamspamspamsfdadf\")"
      ],
      "metadata": {
        "id": "Ek3ZxFbh4gq4"
      },
      "execution_count": null,
      "outputs": []
    },
    {
      "cell_type": "code",
      "source": [
        "p3 = r\"...f$\"\n",
        "re.findall(p3 , \"sssspamspamspamsfdad 12f\")"
      ],
      "metadata": {
        "id": "zw2Fs4pY41Xn"
      },
      "execution_count": null,
      "outputs": []
    },
    {
      "cell_type": "markdown",
      "source": [],
      "metadata": {
        "id": "XkxU4JwR5mW3"
      }
    },
    {
      "cell_type": "code",
      "source": [
        "'''\n",
        "+ یکی یا بیشتر\n",
        "* صفر یا بیشتر\n",
        "? صفر یا یکی\n",
        "{x,y}  از ایکس تا وای تکرار\n",
        "'''"
      ],
      "metadata": {
        "id": "Bj44jb2d5sh3"
      },
      "execution_count": null,
      "outputs": []
    },
    {
      "cell_type": "code",
      "source": [
        "\n",
        "p3 = r\"s+..m\"\n",
        "re.findall(p3 , \"sssspamspamspamsfdad 12f\")"
      ],
      "metadata": {
        "id": "jPWiLcer5NMH"
      },
      "execution_count": null,
      "outputs": []
    },
    {
      "cell_type": "code",
      "source": [
        "\n",
        "p3 = r\"s?..m\"\n",
        "re.findall(p3 , \"s ss sspam pam\")"
      ],
      "metadata": {
        "id": "g2eHXb0L6Hn4"
      },
      "execution_count": null,
      "outputs": []
    },
    {
      "cell_type": "code",
      "source": [
        "\n",
        "p3 = r\"s*..m\"\n",
        "re.findall(p3 , \"s ss sspam pam\")"
      ],
      "metadata": {
        "id": "qBi8QFg46S5m"
      },
      "execution_count": null,
      "outputs": []
    },
    {
      "cell_type": "code",
      "source": [
        "# [0-9]\n",
        "# [a-zA-z]\n",
        "# [a-z]\n",
        "# [a-z0-9]\n",
        "# [^0-9]"
      ],
      "metadata": {
        "id": "0xTKITUg6c24"
      },
      "execution_count": null,
      "outputs": []
    },
    {
      "cell_type": "code",
      "source": [
        "p4=r\".[aeoui]+.\"\n",
        "s = \"sdf dsf eas as d aa \"\n",
        "s2=re.findall(p4 ,s)\n",
        "s2"
      ],
      "metadata": {
        "id": "x87GtgJu6n6p"
      },
      "execution_count": null,
      "outputs": []
    },
    {
      "cell_type": "code",
      "source": [
        "[x.strip() for x in s2]"
      ],
      "metadata": {
        "id": "np-bJENg7AP4"
      },
      "execution_count": null,
      "outputs": []
    },
    {
      "cell_type": "code",
      "source": [
        "p5 = r\"[1-9]+\"\n",
        "s = \"adsf 134 kls-3 kjfas-3 fjsa9 w0r34052359\"\n",
        "re.findall(p5 ,s)"
      ],
      "metadata": {
        "id": "GoOSQoXX7WTo"
      },
      "execution_count": null,
      "outputs": []
    },
    {
      "cell_type": "code",
      "source": [
        "p5 = r\"[0-46-9]+\"\n",
        "s = \"adsf 134 kls-3 kjfas-3 fjsa9 w0r34052359\"\n",
        "re.findall(p5 ,s)"
      ],
      "metadata": {
        "id": "aJKWFfrM72Ul"
      },
      "execution_count": null,
      "outputs": []
    },
    {
      "cell_type": "code",
      "source": [
        "l = []\n",
        "len(l) == False\n"
      ],
      "metadata": {
        "id": "hmMsRz7w9ENJ"
      },
      "execution_count": null,
      "outputs": []
    },
    {
      "cell_type": "code",
      "source": [
        "l=[]\n",
        "n  = [\"2sa\",\"as34df\",\"24af\",\"ad2\"]\n",
        "p6 = r\"^[0-9]+.+\"\n",
        "\n",
        "for i in n:\n",
        "  temp=re.findall(p6,i)\n",
        "  print(temp)\n",
        "  if len(re.findall(p6,i)) :\n",
        "    #l.extend(temp)\n",
        "    l.append(re.findall(p6,i)[0])\n",
        "\n",
        "else :\n",
        "  print(l)"
      ],
      "metadata": {
        "id": "957UMRFF-Ep2"
      },
      "execution_count": null,
      "outputs": []
    },
    {
      "cell_type": "code",
      "source": [
        "\\s,\\t,\\n"
      ],
      "metadata": {
        "id": "Sj0zyhLpR1HU"
      },
      "execution_count": null,
      "outputs": []
    },
    {
      "cell_type": "code",
      "source": [
        "l=[]\n",
        "n  = [\"2sa\",\"as34df\",\"24af\",\"ad2\"]\n",
        "p6 = r\"^\\d+.+\"\n",
        "\n",
        "for i in n:\n",
        "  temp=re.findall(p6,i)\n",
        "  print(temp)\n",
        "  if len(re.findall(p6,i)) :\n",
        "    #l.extend(temp)\n",
        "    l.append(re.findall(p6,i)[0])\n",
        "\n",
        "else :\n",
        "  print(l)"
      ],
      "metadata": {
        "id": "nwrGmFudRtyo"
      },
      "execution_count": null,
      "outputs": []
    },
    {
      "cell_type": "code",
      "source": [
        "l2 = [re.findall(p6,i)[0] for i in n if len(re.findall(p6,i))]\n",
        "l2"
      ],
      "metadata": {
        "id": "YN23i6wD9euF"
      },
      "execution_count": null,
      "outputs": []
    },
    {
      "cell_type": "code",
      "source": [],
      "metadata": {
        "id": "d8h_4d38QMhT"
      },
      "execution_count": null,
      "outputs": []
    },
    {
      "cell_type": "code",
      "source": [
        "p7 = r\".* 123(s)+ .*\"\n",
        "\n",
        "s='123 12s3 123sss 123 123'\n",
        "print(re.match(p7,s))\n",
        "re.findall(p7,s)"
      ],
      "metadata": {
        "id": "nXqaS3RD8vJH"
      },
      "execution_count": null,
      "outputs": []
    },
    {
      "cell_type": "code",
      "source": [],
      "metadata": {
        "id": "1JQk54wMQTWl"
      },
      "execution_count": null,
      "outputs": []
    },
    {
      "cell_type": "code",
      "source": [
        "p7 = r\".* (123s+) .*\"\n",
        "\n",
        "s='123 12s3 123sss 123 123'\n",
        "print(re.match(p7,s))\n",
        "re.findall(p7,s)"
      ],
      "metadata": {
        "id": "V28PKv06QQIR"
      },
      "execution_count": null,
      "outputs": []
    },
    {
      "cell_type": "code",
      "source": [
        "p = r\"ice(-)?cream\"\n",
        "if re.match(p , \"ice-cream\"):\n",
        "  print(\"مچ شد\")\n",
        "else:\n",
        "  print(\"مچ نشد\")\n",
        "\n",
        "if re.match(p , \"icecream\"):\n",
        "  print(\"مچ شد\")\n",
        "else:\n",
        "  print(\"مچ نشد\")\n",
        "\n",
        "if re.match(p , \"ice--cream\"):\n",
        "  print(\"مچ شد\")\n",
        "else:\n",
        "  print(\"مچ نشد\")"
      ],
      "metadata": {
        "id": "rUVGR0Yr_XuF"
      },
      "execution_count": null,
      "outputs": []
    },
    {
      "cell_type": "code",
      "source": [
        "p = r\"ice(-)+cream\"\n",
        "if re.match(p , \"ice-cream\"):\n",
        "  print(\"مچ شد\")\n",
        "else:\n",
        "  print(\"مچ نشد\")\n",
        "\n",
        "if re.match(p , \"icecream\"):\n",
        "  print(\"مچ شد\")\n",
        "else:\n",
        "  print(\"مچ نشد\")\n",
        "\n",
        "if re.match(p , \"ice--cream\"):\n",
        "  print(\"مچ شد\")\n",
        "else:\n",
        "  print(\"مچ نشد\")"
      ],
      "metadata": {
        "id": "pAPHYwoTAikm"
      },
      "execution_count": null,
      "outputs": []
    },
    {
      "cell_type": "code",
      "source": [
        "p = r\"ice(-)*cream\"\n",
        "if re.match(p , \"ice-cream\"):\n",
        "  print(\"مچ شد\")\n",
        "else:\n",
        "  print(\"مچ نشد\")\n",
        "\n",
        "if re.match(p , \"icecream\"):\n",
        "  print(\"مچ شد\")\n",
        "else:\n",
        "  print(\"مچ نشد\")\n",
        "\n",
        "if re.match(p , \"ice--cream\"):\n",
        "  print(\"مچ شد\")\n",
        "else:\n",
        "  print(\"مچ نشد\")"
      ],
      "metadata": {
        "id": "OsRS61-QArk1"
      },
      "execution_count": null,
      "outputs": []
    },
    {
      "cell_type": "code",
      "source": [
        "'<div class=\"rate-it rateit rateit-bg\" data-rateit-value=\" 3\" data-rateit-resetable=\"false\" data-rateit-readonly=\"true\"><button id=\"rateit-reset-3\" type=\"button\" data-role=\"none\" class=\"rateit-reset\" aria-label=\"reset rating\" aria-controls=\"rateit-range-3\" style=\"float: right; display: none;\"><span></span></button><div id=\"rateit-range-3\" class=\"rateit-range\" tabindex=\"0\" role=\"slider\" aria-label=\"rating\" aria-owns=\"rateit-reset-3\" aria-valuemin=\"0\" aria-valuemax=\"5\" aria-valuenow=\"3\" aria-readonly=\"true\" style=\"width: 80px; height: 16px;\"><div class=\"rateit-empty\"></div><div class=\"rateit-selected rateit-selected-rtl\" style=\"height: 16px; width: 48px;\"></div><div class=\"rateit-hover rateit-hover-rtl\" style=\"height: 16px;\"></div></div></div>'"
      ],
      "metadata": {
        "id": "cFQC22GKJwIV"
      },
      "execution_count": null,
      "outputs": []
    },
    {
      "cell_type": "code",
      "source": [
        "s = \"adfz12$zad\"\n",
        "pattern = r\"(.*)z(\\d+)\\$z(.*)\"\n",
        "re.findall(pattern,s)"
      ],
      "metadata": {
        "id": "22naY8hNRUNj"
      },
      "execution_count": null,
      "outputs": []
    },
    {
      "cell_type": "code",
      "source": [
        "match=re.search(pattern,s)\n",
        "if match:\n",
        "  print(match.groups())\n",
        "  print(match.group())\n",
        "  print(match.group(0))\n",
        "  print(match.group(1))\n",
        "  print(match.group(2))\n",
        "  print(match.group(3))\n",
        ""
      ],
      "metadata": {
        "id": "xJ2KhmvXSvNw"
      },
      "execution_count": null,
      "outputs": []
    },
    {
      "cell_type": "code",
      "source": [
        "s ='''\n",
        "به گزارش نفت آنلاین در بخشی از این نامه آمده است : نظر به اینکه پرداخت تفاوت تطبیق ماده 10 قانون وظایف و اختیارات وزارت نفت به کارمندان بر اساس مدرک تحصیلی ملاک حقوق از تاریخ 1393/01/01 اعمال گردیده و همچنین از تعداد سمت های مصوب در این شرکت حدود 41 درصد کل سمت ها دارای شرایط احراز 14 درصد دیپلم و فوق دیپلم می باشد'''\n",
        "p = r\"\\s(\\d+)\\sدرصد\"\n",
        "re.findall(p,s)"
      ],
      "metadata": {
        "id": "P1Y89T6YSztm"
      },
      "execution_count": null,
      "outputs": []
    },
    {
      "cell_type": "code",
      "source": [
        "p = r\".*\\s(\\d+/\\d+/\\d+) .*\"\n",
        "re.findall(p,s)"
      ],
      "metadata": {
        "id": "eBdtOvWjaZa3"
      },
      "execution_count": null,
      "outputs": []
    },
    {
      "cell_type": "code",
      "source": [
        "match = re.search(p,s)\n",
        "if match :\n",
        "  print(match.groups())\n",
        "  print(match.group(1))"
      ],
      "metadata": {
        "id": "4Dxi0Dh9bZPk"
      },
      "execution_count": null,
      "outputs": []
    },
    {
      "cell_type": "code",
      "source": [
        "#p = r\" وزارت (\\w+) \"\n",
        "p = r\" وزارت ([ا-ی]+) \"\n",
        "re.findall(p,s)"
      ],
      "metadata": {
        "id": "XIOW54hZbj8h"
      },
      "execution_count": null,
      "outputs": []
    },
    {
      "cell_type": "code",
      "source": [
        " (mj586021@gmail.com)"
      ],
      "metadata": {
        "id": "24IcjV79dK7Q"
      },
      "execution_count": null,
      "outputs": []
    },
    {
      "cell_type": "code",
      "source": [
        "# dfasOR.OR-OR342@dfasOR.OR-OR234 . dfasOR.OR-OR234"
      ],
      "metadata": {
        "id": "luTdkBnTcwAy"
      },
      "execution_count": null,
      "outputs": []
    },
    {
      "cell_type": "code",
      "source": [
        "afsjfak @af12_hk sgfs"
      ],
      "metadata": {
        "id": "p6IWsHYgde5T"
      },
      "execution_count": null,
      "outputs": []
    },
    {
      "cell_type": "code",
      "source": [],
      "metadata": {
        "id": "Q5lOXj2qeW3b"
      },
      "execution_count": null,
      "outputs": []
    },
    {
      "cell_type": "code",
      "source": [],
      "metadata": {
        "id": "A7KkwILpeWxL"
      },
      "execution_count": null,
      "outputs": []
    },
    {
      "cell_type": "code",
      "source": [],
      "metadata": {
        "id": "LYzE8OpTeWsA"
      },
      "execution_count": null,
      "outputs": []
    },
    {
      "cell_type": "code",
      "source": [],
      "metadata": {
        "id": "AMDMqY9FeY9r"
      },
      "execution_count": null,
      "outputs": []
    },
    {
      "cell_type": "code",
      "source": [
        "class animals:\n",
        "  def __init__(self,name,power,shield):\n",
        "    self.name = name\n",
        "    self.power = power\n",
        "    self.shield = shield\n",
        "\n",
        "  def display(self):\n",
        "    print(f\"name:{self.name}\\npower:{self.power},shield:{self.shield}\")\n",
        "\n",
        "\n",
        "cat = animals(\"cat\",14,6)\n",
        "dog = animals(\"dog\",17,11)\n",
        "\n",
        "\n",
        "cat.display()"
      ],
      "metadata": {
        "id": "N88LCT6udsmI"
      },
      "execution_count": null,
      "outputs": []
    },
    {
      "cell_type": "code",
      "source": [
        "cat.name"
      ],
      "metadata": {
        "id": "ik5qgmW5gZ7F"
      },
      "execution_count": null,
      "outputs": []
    },
    {
      "cell_type": "code",
      "source": [
        "dog.name"
      ],
      "metadata": {
        "id": "RrcXoJYDgi2u"
      },
      "execution_count": null,
      "outputs": []
    },
    {
      "cell_type": "code",
      "source": [
        "class cube:\n",
        "  def __init__(self,n):\n",
        "    self.parameter = n\n",
        "\n",
        "  def mohit(self):\n",
        "    return 6*4*self.parameter\n",
        "  def masahat(self):\n",
        "    return self.parameter**3\n",
        "\n",
        "\n",
        "c1 = cube(5)\n",
        "print(c1.mohit())\n",
        "print(c1.masahat())\n"
      ],
      "metadata": {
        "id": "vcLZf1WLgxxD"
      },
      "execution_count": null,
      "outputs": []
    },
    {
      "cell_type": "code",
      "source": [
        "class student:\n",
        "  def __init__(self,n):\n",
        "    self.name = n\n",
        "  def hello(self):\n",
        "    print(f\"hello {self.name}\")\n",
        "\n",
        "a = student(\"ali\")"
      ],
      "metadata": {
        "id": "C0VOIA_-h5ty"
      },
      "execution_count": null,
      "outputs": []
    },
    {
      "cell_type": "code",
      "source": [
        "a.hello()"
      ],
      "metadata": {
        "id": "CFkg58cTjAmu"
      },
      "execution_count": null,
      "outputs": []
    },
    {
      "cell_type": "code",
      "source": [
        "a.name"
      ],
      "metadata": {
        "id": "E9Tr9f7bjEYx"
      },
      "execution_count": null,
      "outputs": []
    },
    {
      "cell_type": "code",
      "source": [
        "class animal :\n",
        "  def __init__(self,n,c):\n",
        "    self.name = n\n",
        "    self.color = c\n",
        "\n",
        "class cat(animal):\n",
        "  def mio(self):\n",
        "    print(f\"{self.color} {self.name} say mio mio \")\n",
        "\n",
        "class dog(animal):\n",
        "\n",
        "  def hap (self):\n",
        "    print(f\"{self.color} {self.name} say hap hap!\")\n",
        "\n",
        "cat1 = cat(n=\"cat\", c=\"white\")\n",
        "cat1.mio()\n",
        "\n",
        "dog1 = dog(c=\"black\",n=\"luci\")\n",
        "\n",
        "dog1.hap()"
      ],
      "metadata": {
        "id": "rHaVLEmVjRax"
      },
      "execution_count": null,
      "outputs": []
    },
    {
      "cell_type": "code",
      "source": [
        "class person:\n",
        "  def __init__(self ,name, age) :\n",
        "    self.name = name\n",
        "    self.age = age\n",
        "\n",
        "\n",
        "class student(person):\n",
        "\n",
        "    def moadel(self,scores):\n",
        "      try:\n",
        "        return sum(scores)/len(scores)\n",
        "      except:\n",
        "        print(\"اعداد ورودی اشتباه\")\n",
        "\n",
        "    def tabdil_moadel(self,str_scores):\n",
        "      scores = [float(x) for x in str_scores.split()]\n",
        "      return self.moadel(scores)\n",
        "\n",
        "str_scores = \"12.25 16.75 18.5 19.25\"\n",
        "\n",
        "ali = student(\"ali\",24)\n",
        "\n",
        "ali.tabdil_moadel(str_scores)\n"
      ],
      "metadata": {
        "id": "4k1p8DCdkAG0"
      },
      "execution_count": null,
      "outputs": []
    },
    {
      "cell_type": "code",
      "source": [
        "class teacher (person):\n",
        "  def salary_tax(self,salary , tax_rate):\n",
        "    return salary - (salary * tax_rate / 100)\n",
        "\n",
        "mahsa = teacher(\"mahsa\",35)\n",
        "mahsa.salary_tax(3450, 8)"
      ],
      "metadata": {
        "id": "nFh_mOH4oIji"
      },
      "execution_count": null,
      "outputs": []
    }
  ]
}