{
  "cells": [
    {
      "cell_type": "markdown",
      "metadata": {
        "id": "view-in-github",
        "colab_type": "text"
      },
      "source": [
        "<a href=\"https://colab.research.google.com/github/mohammadsjahanbakhsh/class_python_basic/blob/main/%D8%AC%D9%84%D8%B3%D9%87_1.ipynb\" target=\"_parent\"><img src=\"https://colab.research.google.com/assets/colab-badge.svg\" alt=\"Open In Colab\"/></a>"
      ]
    },
    {
      "cell_type": "code",
      "execution_count": null,
      "metadata": {
        "colab": {
          "base_uri": "https://localhost:8080/"
        },
        "id": "lIYdn1woOS1n",
        "outputId": "22ba0092-8d81-46b4-82cd-d9f0368c193c"
      },
      "outputs": [
        {
          "output_type": "stream",
          "name": "stdout",
          "text": [
            "25\n"
          ]
        }
      ],
      "source": [
        "print(5*5)"
      ]
    },
    {
      "cell_type": "code",
      "source": [
        "print()"
      ],
      "metadata": {
        "id": "xHPul1lWlQsR"
      },
      "execution_count": null,
      "outputs": []
    },
    {
      "cell_type": "code",
      "source": [
        "print(type(2))\n"
      ],
      "metadata": {
        "id": "AWW9NCamlWpj",
        "outputId": "67422c70-7b47-4971-a678-f84b5c818d71",
        "colab": {
          "base_uri": "https://localhost:8080/"
        }
      },
      "execution_count": null,
      "outputs": [
        {
          "output_type": "stream",
          "name": "stdout",
          "text": [
            "<class 'int'>\n"
          ]
        }
      ]
    },
    {
      "cell_type": "code",
      "source": [
        "print(type(4.22))"
      ],
      "metadata": {
        "id": "F8cvRO9QlgbA",
        "outputId": "88d504b6-5a2d-4f92-c8db-32378bc1e0fa",
        "colab": {
          "base_uri": "https://localhost:8080/"
        }
      },
      "execution_count": null,
      "outputs": [
        {
          "output_type": "stream",
          "name": "stdout",
          "text": [
            "<class 'float'>\n"
          ]
        }
      ]
    },
    {
      "cell_type": "code",
      "source": [
        "a = 5"
      ],
      "metadata": {
        "id": "eSUdkGhulp7p"
      },
      "execution_count": null,
      "outputs": []
    },
    {
      "cell_type": "code",
      "source": [
        "print(a)"
      ],
      "metadata": {
        "id": "6NUbScpblxYP",
        "outputId": "01fb90da-ab75-45dc-ce4e-b08fac53875c",
        "colab": {
          "base_uri": "https://localhost:8080/"
        }
      },
      "execution_count": null,
      "outputs": [
        {
          "output_type": "stream",
          "name": "stdout",
          "text": [
            "5\n"
          ]
        }
      ]
    },
    {
      "cell_type": "code",
      "source": [
        "b = 10"
      ],
      "metadata": {
        "id": "tBHIdK84l1Nc"
      },
      "execution_count": null,
      "outputs": []
    },
    {
      "cell_type": "code",
      "source": [
        "print(a + b)"
      ],
      "metadata": {
        "id": "RKZiVybOl29g",
        "outputId": "b34fba65-8bdf-432a-eb51-b7ef17851cc5",
        "colab": {
          "base_uri": "https://localhost:8080/"
        }
      },
      "execution_count": null,
      "outputs": [
        {
          "output_type": "stream",
          "name": "stdout",
          "text": [
            "15\n"
          ]
        }
      ]
    },
    {
      "cell_type": "code",
      "source": [
        "c = \"this is char\""
      ],
      "metadata": {
        "id": "6gwIkNzbl6Fv"
      },
      "execution_count": null,
      "outputs": []
    },
    {
      "cell_type": "code",
      "source": [
        "print(c)"
      ],
      "metadata": {
        "id": "o6pZI8TCmFKw",
        "outputId": "f3955133-2f2a-4b24-9960-326b3a6ad883",
        "colab": {
          "base_uri": "https://localhost:8080/"
        }
      },
      "execution_count": null,
      "outputs": [
        {
          "output_type": "stream",
          "name": "stdout",
          "text": [
            "this is char\n"
          ]
        }
      ]
    },
    {
      "cell_type": "code",
      "source": [
        "c = 'this is char'"
      ],
      "metadata": {
        "id": "KWAmRKbHmGcA"
      },
      "execution_count": null,
      "outputs": []
    },
    {
      "cell_type": "code",
      "source": [
        "print(type(c))"
      ],
      "metadata": {
        "id": "DhD-unUKmOMw",
        "outputId": "0ca6a35d-e9db-4836-8377-3b819b59476a",
        "colab": {
          "base_uri": "https://localhost:8080/"
        }
      },
      "execution_count": null,
      "outputs": [
        {
          "output_type": "stream",
          "name": "stdout",
          "text": [
            "<class 'str'>\n"
          ]
        }
      ]
    },
    {
      "cell_type": "code",
      "source": [
        "print(5+5 ) # جمع\n",
        "print(5 - 5 ) # منهی\n",
        "print(5*5 )# ضرب\n",
        "\n",
        "print(5 / 5) # تقسیم\n",
        "print(10 // 3) # تقسیم جزصحیح\n",
        "print(2 ** 3)\n",
        "\n",
        "# print(5)"
      ],
      "metadata": {
        "id": "q9c1lKMHmUwD",
        "outputId": "45dbd49b-3894-4681-9d53-a8c307ed41df",
        "colab": {
          "base_uri": "https://localhost:8080/"
        }
      },
      "execution_count": null,
      "outputs": [
        {
          "output_type": "stream",
          "name": "stdout",
          "text": [
            "10\n",
            "0\n",
            "25\n",
            "1.0\n",
            "3\n",
            "8\n"
          ]
        }
      ]
    },
    {
      "cell_type": "code",
      "source": [
        "b = True\n",
        "c = False\n"
      ],
      "metadata": {
        "id": "6PY-DbnDnf40"
      },
      "execution_count": null,
      "outputs": []
    },
    {
      "cell_type": "code",
      "source": [
        "a = 5\n",
        "b = a"
      ],
      "metadata": {
        "id": "xfpg5vJlofm8"
      },
      "execution_count": null,
      "outputs": []
    },
    {
      "cell_type": "code",
      "source": [],
      "metadata": {
        "id": "gkwUCukZolK-"
      },
      "execution_count": null,
      "outputs": []
    },
    {
      "cell_type": "code",
      "source": [
        "a is b"
      ],
      "metadata": {
        "id": "yCR3rpXnoBQX",
        "outputId": "cd36eb1c-5b12-4850-dcf0-a0e87d41f9ec",
        "colab": {
          "base_uri": "https://localhost:8080/"
        }
      },
      "execution_count": null,
      "outputs": [
        {
          "output_type": "execute_result",
          "data": {
            "text/plain": [
              "True"
            ]
          },
          "metadata": {},
          "execution_count": 21
        }
      ]
    },
    {
      "cell_type": "code",
      "source": [
        "# == <= >= < > !="
      ],
      "metadata": {
        "id": "LWKifg6yoRrh"
      },
      "execution_count": null,
      "outputs": []
    },
    {
      "cell_type": "code",
      "source": [
        "if a == 5 :\n",
        "  print(a)\n",
        "\n"
      ],
      "metadata": {
        "id": "VpzDwxaxosUB",
        "outputId": "e0b314f3-b865-45b7-9353-a4486e77ad80",
        "colab": {
          "base_uri": "https://localhost:8080/"
        }
      },
      "execution_count": null,
      "outputs": [
        {
          "output_type": "stream",
          "name": "stdout",
          "text": [
            "5\n"
          ]
        }
      ]
    },
    {
      "cell_type": "code",
      "source": [
        "print(a)"
      ],
      "metadata": {
        "id": "CfOxFprWpzz0",
        "outputId": "ae5a7eaf-51ae-46d2-d655-da16afc321a6",
        "colab": {
          "base_uri": "https://localhost:8080/"
        }
      },
      "execution_count": null,
      "outputs": [
        {
          "output_type": "stream",
          "name": "stdout",
          "text": [
            "5\n"
          ]
        }
      ]
    },
    {
      "cell_type": "code",
      "source": [
        "# جلسه بعد اولویت عملگر ها"
      ],
      "metadata": {
        "id": "MgIIqm87pKzg"
      },
      "execution_count": null,
      "outputs": []
    },
    {
      "cell_type": "code",
      "source": [
        "if (a >5) or (4*a ==20) :\n",
        "  print(\"درسته\")\n",
        "else :\n",
        "  print(\"غلط\")"
      ],
      "metadata": {
        "id": "Ku5tXR56o-7B",
        "outputId": "f78f57ae-6972-48c5-f503-30de05b8928e",
        "colab": {
          "base_uri": "https://localhost:8080/"
        }
      },
      "execution_count": null,
      "outputs": [
        {
          "output_type": "stream",
          "name": "stdout",
          "text": [
            "درسته\n"
          ]
        }
      ]
    },
    {
      "cell_type": "code",
      "source": [
        "if (a >5) and (4*a ==20) :\n",
        "  print(\"درسته\")\n",
        "else :\n",
        "  print(\"غلط\")"
      ],
      "metadata": {
        "id": "4m3key5xqEfo",
        "outputId": "429325b7-08a0-431a-e6cd-87164cdd4618",
        "colab": {
          "base_uri": "https://localhost:8080/"
        }
      },
      "execution_count": null,
      "outputs": [
        {
          "output_type": "stream",
          "name": "stdout",
          "text": [
            "غلط\n"
          ]
        }
      ]
    },
    {
      "cell_type": "code",
      "source": [
        "if not(a >5) and (4*a ==20) :\n",
        "  print(\"درسته\")\n",
        "else :\n",
        "  print(\"غلط\")"
      ],
      "metadata": {
        "id": "4pGy-foFqJEf",
        "outputId": "35822632-a55d-4fef-b0e7-0300f80f1528",
        "colab": {
          "base_uri": "https://localhost:8080/"
        }
      },
      "execution_count": null,
      "outputs": [
        {
          "output_type": "stream",
          "name": "stdout",
          "text": [
            "درسته\n"
          ]
        }
      ]
    },
    {
      "cell_type": "code",
      "source": [
        "a = 15\n",
        "b = 17\n",
        "c = 20\n",
        "# اگه از پونزده بیشتر بود و از بیست کمتر بود عدد را بنویسد"
      ],
      "metadata": {
        "id": "s-XL1hxKqR6_"
      },
      "execution_count": null,
      "outputs": []
    },
    {
      "cell_type": "code",
      "source": [
        "if a > 15 and a < 20 :\n",
        "   print(a)\n",
        "  print(a+2)\n"
      ],
      "metadata": {
        "id": "0hnsAfT7q7Vw",
        "outputId": "99277cf4-eb95-4e0f-af95-840891b23f84",
        "colab": {
          "base_uri": "https://localhost:8080/",
          "height": 131
        }
      },
      "execution_count": null,
      "outputs": [
        {
          "output_type": "error",
          "ename": "IndentationError",
          "evalue": "ignored",
          "traceback": [
            "\u001b[0;36m  File \u001b[0;32m\"<tokenize>\"\u001b[0;36m, line \u001b[0;32m3\u001b[0m\n\u001b[0;31m    print(a+2)\u001b[0m\n\u001b[0m    ^\u001b[0m\n\u001b[0;31mIndentationError\u001b[0m\u001b[0;31m:\u001b[0m unindent does not match any outer indentation level\n"
          ]
        }
      ]
    },
    {
      "cell_type": "code",
      "source": [
        "if a > 15 and a < 20 :\n",
        "   print(a)\n",
        "   print(a+2)\n",
        "else :\n",
        "  print(\"nist\")\n",
        "\n"
      ],
      "metadata": {
        "id": "YMpeF-CIrPTP",
        "outputId": "77ab27b7-8efa-4c16-9517-b02af23b96be",
        "colab": {
          "base_uri": "https://localhost:8080/"
        }
      },
      "execution_count": null,
      "outputs": [
        {
          "output_type": "stream",
          "name": "stdout",
          "text": [
            "nist\n"
          ]
        }
      ]
    },
    {
      "cell_type": "code",
      "source": [
        "if b > 15 :\n",
        "  if b < 20 :\n",
        "    print(b)\n",
        "  print()\n",
        "\n"
      ],
      "metadata": {
        "id": "ExaBhN77rnLn"
      },
      "execution_count": null,
      "outputs": []
    },
    {
      "cell_type": "code",
      "source": [
        "print(a)"
      ],
      "metadata": {
        "id": "d5o6MDPCsjM8",
        "outputId": "159728fb-cf7c-4575-cd6d-f5a5f2dd11f2",
        "colab": {
          "base_uri": "https://localhost:8080/"
        }
      },
      "execution_count": null,
      "outputs": [
        {
          "output_type": "stream",
          "name": "stdout",
          "text": [
            "15\n"
          ]
        }
      ]
    },
    {
      "cell_type": "code",
      "source": [
        "print(type(a))"
      ],
      "metadata": {
        "id": "Eypd2MgQsuBg",
        "outputId": "9051bf59-b2f3-4a33-f305-2e5f98c65334",
        "colab": {
          "base_uri": "https://localhost:8080/"
        }
      },
      "execution_count": null,
      "outputs": [
        {
          "output_type": "stream",
          "name": "stdout",
          "text": [
            "<class 'int'>\n"
          ]
        }
      ]
    },
    {
      "cell_type": "code",
      "source": [
        "b = float(a)\n",
        "print(type(b))\n",
        "print(b)"
      ],
      "metadata": {
        "id": "ZB7jHh-BtEy4",
        "outputId": "28928bf8-7592-4e53-8496-934701f3473d",
        "colab": {
          "base_uri": "https://localhost:8080/"
        }
      },
      "execution_count": null,
      "outputs": [
        {
          "output_type": "stream",
          "name": "stdout",
          "text": [
            "<class 'float'>\n",
            "15.0\n"
          ]
        }
      ]
    },
    {
      "cell_type": "code",
      "source": [
        "f = 15.5\n",
        "i = int(f)\n",
        "\n",
        "print(type(i))\n",
        "print(i)"
      ],
      "metadata": {
        "id": "-R-TLZPwtViv",
        "outputId": "e651dc2e-e5ed-4dcc-c19d-0e59bb6c225a",
        "colab": {
          "base_uri": "https://localhost:8080/"
        }
      },
      "execution_count": null,
      "outputs": [
        {
          "output_type": "stream",
          "name": "stdout",
          "text": [
            "<class 'int'>\n",
            "15\n"
          ]
        }
      ]
    },
    {
      "cell_type": "code",
      "source": [
        "s = \"5555\"\n",
        "s = int(s)\n",
        "print(type(s))\n",
        "print(s)"
      ],
      "metadata": {
        "id": "WKqQhcoztn9P",
        "outputId": "791ec015-0e23-4940-e0df-a84e9ac60c24",
        "colab": {
          "base_uri": "https://localhost:8080/"
        }
      },
      "execution_count": null,
      "outputs": [
        {
          "output_type": "stream",
          "name": "stdout",
          "text": [
            "<class 'int'>\n",
            "5555\n"
          ]
        }
      ]
    },
    {
      "cell_type": "code",
      "source": [
        "s = \"5a\"\n",
        "s = int(s)\n",
        "print(type(s))\n",
        "print(s)"
      ],
      "metadata": {
        "id": "IY0XL2WxvhRA",
        "outputId": "7d56b4e9-b5f3-4cd6-cc1e-9ef0e6754c24",
        "colab": {
          "base_uri": "https://localhost:8080/",
          "height": 218
        }
      },
      "execution_count": null,
      "outputs": [
        {
          "output_type": "error",
          "ename": "ValueError",
          "evalue": "ignored",
          "traceback": [
            "\u001b[0;31m---------------------------------------------------------------------------\u001b[0m",
            "\u001b[0;31mValueError\u001b[0m                                Traceback (most recent call last)",
            "\u001b[0;32m<ipython-input-48-009ce0a33449>\u001b[0m in \u001b[0;36m<cell line: 2>\u001b[0;34m()\u001b[0m\n\u001b[1;32m      1\u001b[0m \u001b[0ms\u001b[0m \u001b[0;34m=\u001b[0m \u001b[0;34m\"5a\"\u001b[0m\u001b[0;34m\u001b[0m\u001b[0;34m\u001b[0m\u001b[0m\n\u001b[0;32m----> 2\u001b[0;31m \u001b[0ms\u001b[0m \u001b[0;34m=\u001b[0m \u001b[0mint\u001b[0m\u001b[0;34m(\u001b[0m\u001b[0ms\u001b[0m\u001b[0;34m)\u001b[0m\u001b[0;34m\u001b[0m\u001b[0;34m\u001b[0m\u001b[0m\n\u001b[0m\u001b[1;32m      3\u001b[0m \u001b[0mprint\u001b[0m\u001b[0;34m(\u001b[0m\u001b[0mtype\u001b[0m\u001b[0;34m(\u001b[0m\u001b[0ms\u001b[0m\u001b[0;34m)\u001b[0m\u001b[0;34m)\u001b[0m\u001b[0;34m\u001b[0m\u001b[0;34m\u001b[0m\u001b[0m\n\u001b[1;32m      4\u001b[0m \u001b[0mprint\u001b[0m\u001b[0;34m(\u001b[0m\u001b[0ms\u001b[0m\u001b[0;34m)\u001b[0m\u001b[0;34m\u001b[0m\u001b[0;34m\u001b[0m\u001b[0m\n",
            "\u001b[0;31mValueError\u001b[0m: invalid literal for int() with base 10: '5a'"
          ]
        }
      ]
    },
    {
      "cell_type": "code",
      "source": [
        "b = True\n",
        "b = int(b)\n",
        "print(b)"
      ],
      "metadata": {
        "id": "FAX7Hj2mt57A",
        "outputId": "59d605c2-fa3e-4069-f88b-b06cd728520a",
        "colab": {
          "base_uri": "https://localhost:8080/"
        }
      },
      "execution_count": null,
      "outputs": [
        {
          "output_type": "stream",
          "name": "stdout",
          "text": [
            "1\n"
          ]
        }
      ]
    },
    {
      "cell_type": "code",
      "source": [
        "c = False\n",
        "print(int(c))"
      ],
      "metadata": {
        "id": "Bck03nHOuJBv",
        "outputId": "9baf0df3-4d29-439a-e592-2b6e8b411932",
        "colab": {
          "base_uri": "https://localhost:8080/"
        }
      },
      "execution_count": null,
      "outputs": [
        {
          "output_type": "stream",
          "name": "stdout",
          "text": [
            "0\n"
          ]
        }
      ]
    },
    {
      "cell_type": "code",
      "source": [],
      "metadata": {
        "id": "92duIgP2uPdQ"
      },
      "execution_count": null,
      "outputs": []
    }
  ],
  "metadata": {
    "colab": {
      "provenance": [],
      "include_colab_link": true
    },
    "kernelspec": {
      "display_name": "Python 3",
      "name": "python3"
    }
  },
  "nbformat": 4,
  "nbformat_minor": 0
}