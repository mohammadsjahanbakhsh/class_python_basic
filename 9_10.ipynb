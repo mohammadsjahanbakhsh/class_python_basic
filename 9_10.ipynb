{
  "nbformat": 4,
  "nbformat_minor": 0,
  "metadata": {
    "colab": {
      "private_outputs": true,
      "provenance": [],
      "authorship_tag": "ABX9TyPz4DXrTPqyzeJZwmxA9KeO",
      "include_colab_link": true
    },
    "kernelspec": {
      "name": "python3",
      "display_name": "Python 3"
    },
    "language_info": {
      "name": "python"
    }
  },
  "cells": [
    {
      "cell_type": "markdown",
      "metadata": {
        "id": "view-in-github",
        "colab_type": "text"
      },
      "source": [
        "<a href=\"https://colab.research.google.com/github/mohammadsjahanbakhsh/class_python_basic/blob/main/9_10.ipynb\" target=\"_parent\"><img src=\"https://colab.research.google.com/assets/colab-badge.svg\" alt=\"Open In Colab\"/></a>"
      ]
    },
    {
      "cell_type": "markdown",
      "source": [
        "[type of error in python](https://www.tutorialsteacher.com/python/error-types-in-python)"
      ],
      "metadata": {
        "id": "X4ZuPzoVE8MY"
      }
    },
    {
      "cell_type": "code",
      "source": [
        "if 5 > 0\n",
        "  print(12)"
      ],
      "metadata": {
        "id": "_1Qm3Ex_FI_u"
      },
      "execution_count": null,
      "outputs": []
    },
    {
      "cell_type": "code",
      "source": [
        "int(\"s1\")"
      ],
      "metadata": {
        "id": "_VolrTZgFTHw"
      },
      "execution_count": null,
      "outputs": []
    },
    {
      "cell_type": "code",
      "source": [
        "print( 50 / 0)"
      ],
      "metadata": {
        "id": "5P0oN2lbFXB9"
      },
      "execution_count": null,
      "outputs": []
    },
    {
      "cell_type": "code",
      "source": [
        "if 5 > 0 :\n",
        "print(12)"
      ],
      "metadata": {
        "id": "chJ6iPQjFt9_"
      },
      "execution_count": null,
      "outputs": []
    },
    {
      "cell_type": "code",
      "source": [
        "a = list(range(10))\n",
        "print(a[12])"
      ],
      "metadata": {
        "id": "CRmVX2OfF01u"
      },
      "execution_count": null,
      "outputs": []
    },
    {
      "cell_type": "code",
      "source": [
        "14 / \"2\""
      ],
      "metadata": {
        "id": "NN08DOGqF8gr"
      },
      "execution_count": null,
      "outputs": []
    },
    {
      "cell_type": "code",
      "source": [
        "print(age)"
      ],
      "metadata": {
        "id": "0UZZ94CEGDP9"
      },
      "execution_count": null,
      "outputs": []
    },
    {
      "cell_type": "code",
      "source": [
        "import no_file"
      ],
      "metadata": {
        "id": "BGxeTU07GHq8"
      },
      "execution_count": null,
      "outputs": []
    },
    {
      "cell_type": "code",
      "source": [
        "names = [\"ali\",\"raza\",'mobina']\n",
        "scores = [15,19,17]\n",
        "zip()\n",
        "{ k:v for k,v in zip(names,scores)}"
      ],
      "metadata": {
        "id": "wOZQf7EoGOZr"
      },
      "execution_count": null,
      "outputs": []
    },
    {
      "cell_type": "code",
      "source": [
        "class_ [\"mahdi\"]"
      ],
      "metadata": {
        "id": "vOUplcRJHUEV"
      },
      "execution_count": null,
      "outputs": []
    },
    {
      "cell_type": "code",
      "source": [],
      "metadata": {
        "id": "ZtAdSZAQHY1N"
      },
      "execution_count": null,
      "outputs": []
    },
    {
      "cell_type": "code",
      "source": [],
      "metadata": {
        "id": "850CxDa6LVHc"
      },
      "execution_count": null,
      "outputs": []
    },
    {
      "cell_type": "code",
      "source": [
        "names = [\"ali\",\"raza\",'mobina']\n",
        "scores = [15,19,17]\n",
        "\n",
        "\n",
        "zip(names , scores)"
      ],
      "metadata": {
        "id": "c2zKtoh7QHB3"
      },
      "execution_count": null,
      "outputs": []
    },
    {
      "cell_type": "code",
      "source": [
        "list(zip(names , scores))"
      ],
      "metadata": {
        "id": "06W0DLqVQWPB"
      },
      "execution_count": null,
      "outputs": []
    },
    {
      "cell_type": "markdown",
      "source": [
        "## comprehensive"
      ],
      "metadata": {
        "id": "VJ1EcXc8QZv5"
      }
    },
    {
      "cell_type": "code",
      "source": [
        "[x*2 for x in range(10)]"
      ],
      "metadata": {
        "id": "s7hnmj-2QgtI"
      },
      "execution_count": null,
      "outputs": []
    },
    {
      "cell_type": "code",
      "source": [
        "s=[]\n",
        "for x in range(0,10,2):\n",
        "  s.append(str(x))"
      ],
      "metadata": {
        "id": "gqIB_U_mQ4Q7"
      },
      "execution_count": null,
      "outputs": []
    },
    {
      "cell_type": "code",
      "source": [
        "[str(x) for x in range(0,10,2)]"
      ],
      "metadata": {
        "id": "7rPX-jbIQvDO"
      },
      "execution_count": null,
      "outputs": []
    },
    {
      "cell_type": "code",
      "source": [
        "[str(x) for x in range(10) if x%2==1]"
      ],
      "metadata": {
        "id": "6D5ykBczQzxN"
      },
      "execution_count": null,
      "outputs": []
    },
    {
      "cell_type": "code",
      "source": [
        "[str(x) if x%2==1 else float(x) for x in range(10) ]"
      ],
      "metadata": {
        "id": "1vzMQTrJTddF"
      },
      "execution_count": null,
      "outputs": []
    },
    {
      "cell_type": "code",
      "source": [
        "scores = [float(i) for i in input().split()]"
      ],
      "metadata": {
        "id": "8a3UmeK5RqGR"
      },
      "execution_count": null,
      "outputs": []
    },
    {
      "cell_type": "code",
      "source": [
        "scores"
      ],
      "metadata": {
        "id": "QKBnW2QUR873"
      },
      "execution_count": null,
      "outputs": []
    },
    {
      "cell_type": "code",
      "source": [
        "names = [\"ali\",\"raza\",'mobina']\n",
        "scores = [15,19,17]\n",
        "{k:v for k,v in zip(names , scores) }"
      ],
      "metadata": {
        "id": "912hQjveSNuZ"
      },
      "execution_count": null,
      "outputs": []
    },
    {
      "cell_type": "code",
      "source": [
        "mobina={x.upper():x.lower() for x in \"mobina\" }"
      ],
      "metadata": {
        "id": "HnIhUY07Snjm"
      },
      "execution_count": null,
      "outputs": []
    },
    {
      "cell_type": "code",
      "source": [
        "mobina.keys()"
      ],
      "metadata": {
        "id": "BXcAI-hnS9Ur"
      },
      "execution_count": null,
      "outputs": []
    },
    {
      "cell_type": "code",
      "source": [
        "mobina.values()"
      ],
      "metadata": {
        "id": "eJz-UFXSTbUm"
      },
      "execution_count": null,
      "outputs": []
    },
    {
      "cell_type": "markdown",
      "source": [
        "# exception"
      ],
      "metadata": {
        "id": "l1zYhwRXTBzn"
      }
    },
    {
      "cell_type": "code",
      "source": [
        "a = 5.2\n",
        "b = 0"
      ],
      "metadata": {
        "id": "jMRhOxJeTmDq"
      },
      "execution_count": null,
      "outputs": []
    },
    {
      "cell_type": "code",
      "source": [
        "a /b"
      ],
      "metadata": {
        "id": "POTH_WHTTmaW"
      },
      "execution_count": null,
      "outputs": []
    },
    {
      "cell_type": "code",
      "source": [
        "i = float(input())"
      ],
      "metadata": {
        "id": "pGbYCAJoTzNX"
      },
      "execution_count": null,
      "outputs": []
    },
    {
      "cell_type": "code",
      "source": [
        "try:\n",
        "  print(5 / 0)\n",
        "except:\n",
        " print(\"!تقسیم بر صفر موجود نیست \")"
      ],
      "metadata": {
        "id": "Jsd4sFpLTmfF"
      },
      "execution_count": null,
      "outputs": []
    },
    {
      "cell_type": "code",
      "source": [
        "try:\n",
        "  print(5 / 2)\n",
        "\n",
        "except:\n",
        " print(\"!تقسیم بر صفر موجود نیست \")"
      ],
      "metadata": {
        "id": "HSSz-rh7UU_-"
      },
      "execution_count": null,
      "outputs": []
    },
    {
      "cell_type": "code",
      "source": [
        "try:\n",
        "\n",
        "  print(5 / 0)\n",
        "  # چون به ترتیب اجرا شده با رسیدن به اولین ارور خارج میشه\n",
        "  print(int(\"x1\"))\n",
        "\n",
        "except ZeroDivisionError :\n",
        "  print(\"!تقسیم بر صفر موجود نیست \")"
      ],
      "metadata": {
        "id": "kl91MrwWUY0Y"
      },
      "execution_count": null,
      "outputs": []
    },
    {
      "cell_type": "code",
      "source": [
        "try:\n",
        "\n",
        "  print(int(\"x1\"))\n",
        "\n",
        "  print(5 / 0)\n",
        "\n",
        "\n",
        "except ZeroDivisionError :\n",
        "  print(\"!تقسیم بر صفر موجود نیست \")\n",
        "\n",
        "except ValueError :\n",
        "  print(\" مقدار تابع تبدیل به عدد صحیح اشتباه است\")"
      ],
      "metadata": {
        "id": "bTuI-MOsUxLp"
      },
      "execution_count": null,
      "outputs": []
    },
    {
      "cell_type": "code",
      "source": [
        "try :\n",
        "  a = [x for x in range(10)]\n",
        "\n",
        "  print(a[12])\n",
        "\n",
        "  a.append(int(input()))\n",
        "\n",
        "except (ValueError , IndexError) :\n",
        "  print(\"مقادیر نا معتبر\")"
      ],
      "metadata": {
        "id": "SGPk5NcaVGe6"
      },
      "execution_count": null,
      "outputs": []
    },
    {
      "cell_type": "code",
      "source": [
        "try :\n",
        "  a = [x for x in range(10)]\n",
        "\n",
        "  print(a[-1])\n",
        "\n",
        "  a.append(int(input()))\n",
        "\n",
        "except  IndexError :\n",
        "\n",
        "  print(\"مقادیر نا معتبر\")\n",
        "\n",
        "else :\n",
        "  print(\"کارکرد صحیح\")"
      ],
      "metadata": {
        "id": "RuNZ0NDtV38i"
      },
      "execution_count": null,
      "outputs": []
    },
    {
      "cell_type": "code",
      "source": [
        "try :\n",
        "  a = [x for x in range(10)]\n",
        "\n",
        "  print(a[int(input())])\n",
        "\n",
        "except  IndexError :\n",
        "\n",
        "  print(\"ایندکس نا معتبر\")\n",
        "\n",
        "except  ValueError :\n",
        "\n",
        "  print(\"مقدار نا معتبر\")\n",
        "\n",
        "else :\n",
        "  print(\"کارکرد صحیح\")\n",
        "\n",
        "finally:\n",
        "  print(\"برنامه پایان یافت\")"
      ],
      "metadata": {
        "id": "KQtbJFvKWhqF"
      },
      "execution_count": null,
      "outputs": []
    },
    {
      "cell_type": "code",
      "source": [
        "try:\n",
        "  print(5 / 2)\n",
        "\n",
        "except:\n",
        " print(\"!تقسیم بر صفر موجود نیست \")\n",
        "\n",
        "finally:\n",
        "  print(\"برنامه پایان یافت\")"
      ],
      "metadata": {
        "id": "b5ASU3G5XB4m"
      },
      "execution_count": null,
      "outputs": []
    },
    {
      "cell_type": "code",
      "source": [
        "try:\n",
        "  print(5 / 0)\n",
        "\n",
        "except:\n",
        " print(\"!تقسیم بر صفر موجود نیست \")\n",
        "\n",
        "finally:\n",
        "  print(\"برنامه پایان یافت\")"
      ],
      "metadata": {
        "id": "qgCHK5jgXHYn"
      },
      "execution_count": null,
      "outputs": []
    },
    {
      "cell_type": "code",
      "source": [
        "a = range(5)\n",
        "b = range(4)\n",
        "list(zip(a,b))"
      ],
      "metadata": {
        "id": "bRl_aMlTXjRV"
      },
      "execution_count": null,
      "outputs": []
    },
    {
      "cell_type": "code",
      "source": [
        "x = -3"
      ],
      "metadata": {
        "id": "O9ZZPD0RfNFr"
      },
      "execution_count": null,
      "outputs": []
    },
    {
      "cell_type": "code",
      "source": [
        "if x < 0 :\n",
        "  raise ValueError(\"عدد کوچکتر از صفر است\")"
      ],
      "metadata": {
        "id": "__Ttf1HrXokV"
      },
      "execution_count": null,
      "outputs": []
    },
    {
      "cell_type": "code",
      "source": [
        "def int_ (x):\n",
        "\n",
        "  return int(x)"
      ],
      "metadata": {
        "id": "QPrYixDeZM1-"
      },
      "execution_count": null,
      "outputs": []
    },
    {
      "cell_type": "code",
      "source": [],
      "metadata": {
        "id": "wej8iwq_ftoa"
      },
      "execution_count": null,
      "outputs": []
    },
    {
      "cell_type": "code",
      "source": [
        "try :\n",
        "  num = 5 /0\n",
        "except:\n",
        "  print(\"ارور رخ داده \")\n",
        "  raise"
      ],
      "metadata": {
        "id": "PANIFuQofefw"
      },
      "execution_count": null,
      "outputs": []
    },
    {
      "cell_type": "code",
      "source": [
        "try :\n",
        "  num = 5 /0\n",
        "except:\n",
        "  print(\"ارور رخ داده \")"
      ],
      "metadata": {
        "id": "LSoMTNAEfmhT"
      },
      "execution_count": null,
      "outputs": []
    },
    {
      "cell_type": "code",
      "source": [
        "assert 2+2 ==4"
      ],
      "metadata": {
        "id": "tveb4kSVfxEZ"
      },
      "execution_count": null,
      "outputs": []
    },
    {
      "cell_type": "code",
      "source": [
        "assert 2+2 ==3"
      ],
      "metadata": {
        "id": "O5jO2Cn2f7LB"
      },
      "execution_count": null,
      "outputs": []
    },
    {
      "cell_type": "code",
      "source": [
        "x = int(input())"
      ],
      "metadata": {
        "id": "amQtxzoPgF_M"
      },
      "execution_count": null,
      "outputs": []
    },
    {
      "cell_type": "code",
      "source": [
        "assert x>0"
      ],
      "metadata": {
        "id": "4Z352K4yf9WO"
      },
      "execution_count": null,
      "outputs": []
    },
    {
      "cell_type": "code",
      "source": [],
      "metadata": {
        "id": "SbcKnLIQgY4Y"
      },
      "execution_count": null,
      "outputs": []
    },
    {
      "cell_type": "code",
      "source": [
        "\n",
        "!wget https://raw.githubusercontent.com/mohammadsjahanbakhsh/class_python_basic/main/my_sqrt.py"
      ],
      "metadata": {
        "id": "-TFzL_Zygg0F"
      },
      "execution_count": null,
      "outputs": []
    },
    {
      "cell_type": "code",
      "source": [
        "assert x>0 ,\"عدد کوچکتر از صفر است\""
      ],
      "metadata": {
        "id": "qCYqA3j8gM9A"
      },
      "execution_count": null,
      "outputs": []
    },
    {
      "cell_type": "code",
      "source": [
        "from my_sqrt import func_sqrt"
      ],
      "metadata": {
        "id": "pS1kYFyChAow"
      },
      "execution_count": null,
      "outputs": []
    },
    {
      "cell_type": "code",
      "source": [
        "func_sqrt([12,15,\"24\",\"aa\"])"
      ],
      "metadata": {
        "id": "fK52h9pOhq9j"
      },
      "execution_count": null,
      "outputs": []
    },
    {
      "cell_type": "code",
      "source": [],
      "metadata": {
        "id": "1WeMS9Fekqj9"
      },
      "execution_count": null,
      "outputs": []
    },
    {
      "cell_type": "code",
      "source": [
        "func_sqrt(12,15,\"24\",\"aa\")"
      ],
      "metadata": {
        "id": "H2Qrk4PUiEw8"
      },
      "execution_count": null,
      "outputs": []
    },
    {
      "cell_type": "code",
      "source": [
        "type([]) is list"
      ],
      "metadata": {
        "id": "1rQRpsJ6ii5o"
      },
      "execution_count": null,
      "outputs": []
    },
    {
      "cell_type": "code",
      "source": [
        "\n",
        "from numpy import sqrt\n",
        "\n",
        "def func_sqrt (*List):\n",
        "  try:\n",
        "    assert type(List[0]) is list\n",
        "    assert type(List[0]) is tuple\n",
        "    list2= list (map (sqrt , List))\n",
        "    return list2\n",
        "  except TypeError:\n",
        "    print (\"در مقادیر یک مقدار غیر عددی وجود دارد\")\n",
        "  except AssertionError :\n",
        "    print(\"مقادیر به صورت لیست بود   :)\")"
      ],
      "metadata": {
        "id": "eFQaOzZRimmZ"
      },
      "execution_count": null,
      "outputs": []
    },
    {
      "cell_type": "code",
      "source": [],
      "metadata": {
        "id": "Vd6bn2Dyk5Gj"
      },
      "execution_count": null,
      "outputs": []
    },
    {
      "cell_type": "code",
      "source": [
        "func_sqrt(12,15,16)"
      ],
      "metadata": {
        "id": "fzQ-X0WJj2zn"
      },
      "execution_count": null,
      "outputs": []
    },
    {
      "cell_type": "code",
      "source": [],
      "metadata": {
        "id": "Bdpvv3lAl3qM"
      },
      "execution_count": null,
      "outputs": []
    },
    {
      "cell_type": "code",
      "source": [
        "print(age)"
      ],
      "metadata": {
        "id": "E5YMG4pVl32m"
      },
      "execution_count": null,
      "outputs": []
    },
    {
      "cell_type": "code",
      "source": [
        "sqrt2(32)"
      ],
      "metadata": {
        "id": "AxpQ_DbtmMwJ"
      },
      "execution_count": null,
      "outputs": []
    },
    {
      "cell_type": "code",
      "source": [
        "names = [\"ali\",\"raza\",'mobina']\n",
        "scores = [15,19,17]\n",
        "s = {k:v for k,v in zip(names , scores) }\n",
        "s"
      ],
      "metadata": {
        "id": "tWf7Bx_pmR_E"
      },
      "execution_count": null,
      "outputs": []
    },
    {
      "cell_type": "code",
      "source": [
        "s[\"mahsa\"]"
      ],
      "metadata": {
        "id": "feSxFAFemkYD"
      },
      "execution_count": null,
      "outputs": []
    },
    {
      "cell_type": "code",
      "source": [
        "if x > 10\n",
        "  print(x)"
      ],
      "metadata": {
        "id": "bWUZa62_mmT8"
      },
      "execution_count": null,
      "outputs": []
    },
    {
      "cell_type": "code",
      "source": [
        "if x > 10:\n",
        "print(x)"
      ],
      "metadata": {
        "id": "62QI6PkvnOjR"
      },
      "execution_count": null,
      "outputs": []
    },
    {
      "cell_type": "code",
      "source": [],
      "metadata": {
        "id": "qOMkU8tLnTMn"
      },
      "execution_count": null,
      "outputs": []
    }
  ]
}