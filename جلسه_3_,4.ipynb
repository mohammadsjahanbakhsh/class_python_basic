{
  "nbformat": 4,
  "nbformat_minor": 0,
  "metadata": {
    "colab": {
      "private_outputs": true,
      "provenance": [],
      "authorship_tag": "ABX9TyPIdP4PraEAheTzSY3J1wA1",
      "include_colab_link": true
    },
    "kernelspec": {
      "name": "python3",
      "display_name": "Python 3"
    },
    "language_info": {
      "name": "python"
    }
  },
  "cells": [
    {
      "cell_type": "markdown",
      "metadata": {
        "id": "view-in-github",
        "colab_type": "text"
      },
      "source": [
        "<a href=\"https://colab.research.google.com/github/mohammadsjahanbakhsh/class_python_basic/blob/main/%D8%AC%D9%84%D8%B3%D9%87_3_%2C4.ipynb\" target=\"_parent\"><img src=\"https://colab.research.google.com/assets/colab-badge.svg\" alt=\"Open In Colab\"/></a>"
      ]
    },
    {
      "cell_type": "code",
      "source": [
        "list1 = [1,2,34,21,1,2]\n",
        "list1 = list(set(list1)) # مقادیر منحصر به فرد\n",
        "list1 #"
      ],
      "metadata": {
        "id": "z-wbhfZPYuqz"
      },
      "execution_count": null,
      "outputs": []
    },
    {
      "cell_type": "markdown",
      "source": [
        "# set\n",
        "[set method in python](https://www.w3schools.com/python/python_ref_set.asp)"
      ],
      "metadata": {
        "id": "6cMG02XEZZEm"
      }
    },
    {
      "cell_type": "code",
      "execution_count": null,
      "metadata": {
        "id": "GXhQBmbBYcXx"
      },
      "outputs": [],
      "source": [
        "\n",
        "a = {1,3,4}\n"
      ]
    },
    {
      "cell_type": "markdown",
      "source": [
        "# tuple"
      ],
      "metadata": {
        "id": "gEk_Aeu5ZkAk"
      }
    },
    {
      "cell_type": "code",
      "source": [
        "a = (2,3,54,5)\n",
        "print(type(a))\n",
        "a\n",
        "# تاپل سریع تر از لیست اما غیر قابل تغییر"
      ],
      "metadata": {
        "id": "OoFgm1wAZlrU"
      },
      "execution_count": null,
      "outputs": []
    },
    {
      "cell_type": "code",
      "source": [
        "type(tuple(list1))\n",
        "tuple(list1)"
      ],
      "metadata": {
        "id": "WeeaHtQeZ7XE"
      },
      "execution_count": null,
      "outputs": []
    },
    {
      "cell_type": "markdown",
      "source": [
        "# dict"
      ],
      "metadata": {
        "id": "vwap4QR-aKLM"
      }
    },
    {
      "cell_type": "code",
      "source": [
        "d = {\n",
        "    \"ali\":29 ,\n",
        "    \"mahsa\" : 34 ,\n",
        "    \"mohammad\" : 24\n",
        "}"
      ],
      "metadata": {
        "id": "Psc5fe5qaNHj"
      },
      "execution_count": null,
      "outputs": []
    },
    {
      "cell_type": "code",
      "source": [
        "d[\"ali\"]"
      ],
      "metadata": {
        "id": "mK6nZe4Caeb0"
      },
      "execution_count": null,
      "outputs": []
    },
    {
      "cell_type": "code",
      "source": [
        "d.get(\"ali\",\"Not found\")"
      ],
      "metadata": {
        "id": "8176RYDybCR2"
      },
      "execution_count": null,
      "outputs": []
    },
    {
      "cell_type": "code",
      "source": [
        "d.get(\"cina\",\"Not found\")"
      ],
      "metadata": {
        "id": "VQJJ5JGHbH1U"
      },
      "execution_count": null,
      "outputs": []
    },
    {
      "cell_type": "code",
      "source": [
        "d2 = {\n",
        "    24:\"29\" ,\n",
        "    \"mahsa\" : [34,32] ,\n",
        "    \"mohammad\" : {\"age\":24 , \"job\" : \"driver\" }\n",
        "}"
      ],
      "metadata": {
        "id": "YJIVjJ02aqdV"
      },
      "execution_count": null,
      "outputs": []
    },
    {
      "cell_type": "code",
      "source": [
        "d2[24]"
      ],
      "metadata": {
        "id": "HFyr2EqyaxC3"
      },
      "execution_count": null,
      "outputs": []
    },
    {
      "cell_type": "code",
      "source": [
        "d"
      ],
      "metadata": {
        "id": "d6Gcl-hlbUTH"
      },
      "execution_count": null,
      "outputs": []
    },
    {
      "cell_type": "code",
      "source": [
        "d[\"reza\"] = 32\n",
        "d"
      ],
      "metadata": {
        "id": "BbhEh1qoctVa"
      },
      "execution_count": null,
      "outputs": []
    },
    {
      "cell_type": "code",
      "source": [
        "d.keys()"
      ],
      "metadata": {
        "id": "OA8ZaS1GbgEV"
      },
      "execution_count": null,
      "outputs": []
    },
    {
      "cell_type": "code",
      "source": [
        "d.values()"
      ],
      "metadata": {
        "id": "vcEeZ4JvbkJO"
      },
      "execution_count": null,
      "outputs": []
    },
    {
      "cell_type": "code",
      "source": [
        "d.items()"
      ],
      "metadata": {
        "id": "3f3QEgxWbnhD"
      },
      "execution_count": null,
      "outputs": []
    },
    {
      "cell_type": "code",
      "source": [
        "# مقدار اگر بیشتر از 25 بود کلید را چاپ کند\n",
        "for k,v in d.items():\n",
        "\n",
        "  if v > 25 :\n",
        "    print(k)"
      ],
      "metadata": {
        "id": "uMWa0qSvbuaU"
      },
      "execution_count": null,
      "outputs": []
    },
    {
      "cell_type": "code",
      "source": [
        "input().split()"
      ],
      "metadata": {
        "id": "B_ibdmLYhQIB"
      },
      "execution_count": null,
      "outputs": []
    },
    {
      "cell_type": "code",
      "source": [
        "contact =dict()\n",
        "# پنج اسم و شماره از ورودی دریافت کرده و به دیکشنری مخاطبین اضافه کنید\n",
        "for i in range(3):\n",
        "  temp = input().split()\n",
        "  contact[temp[0]] = temp[1]\n",
        "print(contact)"
      ],
      "metadata": {
        "id": "b6WMHNB3cUKz"
      },
      "execution_count": null,
      "outputs": []
    },
    {
      "cell_type": "code",
      "source": [
        "#\"ali\" in contact\n",
        "# 25 in contact.values()"
      ],
      "metadata": {
        "id": "320nBbntihee"
      },
      "execution_count": null,
      "outputs": []
    },
    {
      "cell_type": "code",
      "source": [
        "# سه تا اسم و شماره جدید بگیریم\n",
        "#اگر اسم در مخاطبین نبود اضافه شود\n",
        "for i in range(3):\n",
        "  temp = input().split()\n",
        "  if temp[0] not in contact:\n",
        "    contact[temp[0]] = temp[1]\n",
        "print(contact)"
      ],
      "metadata": {
        "id": "YdjfGn5Bh1xG"
      },
      "execution_count": null,
      "outputs": []
    },
    {
      "cell_type": "code",
      "source": [
        "names =list( contact.keys())\n",
        "names"
      ],
      "metadata": {
        "id": "V6NRiWNIi3N_"
      },
      "execution_count": null,
      "outputs": []
    },
    {
      "cell_type": "code",
      "source": [
        "# سه اسم اول لیست\n",
        "print(names[  : 3])"
      ],
      "metadata": {
        "id": "6aMBuo3WjIEa"
      },
      "execution_count": null,
      "outputs": []
    },
    {
      "cell_type": "code",
      "source": [
        "# سه اسم اخر لیست\n",
        "names [-3:]"
      ],
      "metadata": {
        "id": "eyH3AsaRjZVY"
      },
      "execution_count": null,
      "outputs": []
    },
    {
      "cell_type": "code",
      "source": [
        "# اگر حرف a داخل اسم بود چاپ کند\n",
        "for name in names :\n",
        "  if \"a\" in name:\n",
        "    print(f\"a has {name}\")\n",
        "  if \"a\" not in name:\n",
        "    print(f\"a nist {name}\")"
      ],
      "metadata": {
        "id": "s26GBXdHjl8F"
      },
      "execution_count": null,
      "outputs": []
    },
    {
      "cell_type": "code",
      "source": [
        "names2 = \" \".join(names)\n",
        "names2"
      ],
      "metadata": {
        "id": "Ixjuknu9j4U8"
      },
      "execution_count": null,
      "outputs": []
    },
    {
      "cell_type": "code",
      "source": [
        "names2.split()"
      ],
      "metadata": {
        "id": "KXqyPrwBkduD"
      },
      "execution_count": null,
      "outputs": []
    },
    {
      "cell_type": "code",
      "source": [
        "sorted(names2.split())"
      ],
      "metadata": {
        "id": "V6b600_OkpL7"
      },
      "execution_count": null,
      "outputs": []
    },
    {
      "cell_type": "code",
      "source": [
        "numbers = list (contact.values())"
      ],
      "metadata": {
        "id": "0LICvX-QlIUP"
      },
      "execution_count": null,
      "outputs": []
    },
    {
      "cell_type": "code",
      "source": [
        "numbers"
      ],
      "metadata": {
        "id": "plZSf2eZlNcA"
      },
      "execution_count": null,
      "outputs": []
    },
    {
      "cell_type": "code",
      "source": [
        "type(numbers[0])"
      ],
      "metadata": {
        "id": "GOD41FMMdRZm"
      },
      "execution_count": null,
      "outputs": []
    },
    {
      "cell_type": "code",
      "source": [
        "sum(numbers)"
      ],
      "metadata": {
        "id": "xYagZ2yllQob"
      },
      "execution_count": null,
      "outputs": []
    },
    {
      "cell_type": "code",
      "source": [
        "s = 0\n",
        "for i in numbers:\n",
        "  s += int(i)\n"
      ],
      "metadata": {
        "id": "YxgAq4C2ldCW"
      },
      "execution_count": null,
      "outputs": []
    },
    {
      "cell_type": "code",
      "source": [
        "avg = s / len(numbers)"
      ],
      "metadata": {
        "id": "fgVj66WAloJO"
      },
      "execution_count": null,
      "outputs": []
    },
    {
      "cell_type": "code",
      "source": [
        "# round() گرد کردن\n"
      ],
      "metadata": {
        "id": "3Zkpo7-KlxVu"
      },
      "execution_count": null,
      "outputs": []
    },
    {
      "cell_type": "code",
      "source": [
        "a  = 13.34245\n",
        "b = 23414.21341\n",
        "print(round(a,3))"
      ],
      "metadata": {
        "id": "kUjFZ4xyl62C"
      },
      "execution_count": null,
      "outputs": []
    },
    {
      "cell_type": "code",
      "source": [
        "print(\" a = %.3f\" %a)"
      ],
      "metadata": {
        "id": "XTkCIg2PmF7h"
      },
      "execution_count": null,
      "outputs": []
    },
    {
      "cell_type": "code",
      "source": [
        "# include -->  import"
      ],
      "metadata": {
        "id": "7s302-d6mV-f"
      },
      "execution_count": null,
      "outputs": []
    },
    {
      "cell_type": "code",
      "source": [
        "import time"
      ],
      "metadata": {
        "id": "JmKBWvqdmncq"
      },
      "execution_count": null,
      "outputs": []
    },
    {
      "cell_type": "code",
      "source": [
        "print(time.time())"
      ],
      "metadata": {
        "id": "BO2bNDBImrlG"
      },
      "execution_count": null,
      "outputs": []
    },
    {
      "cell_type": "code",
      "source": [
        "t = time.time()\n",
        "\n",
        "\n",
        "time.sleep(10)\n",
        "\n",
        "print(time.time()- t)"
      ],
      "metadata": {
        "id": "PeakcQf-m4SE"
      },
      "execution_count": null,
      "outputs": []
    },
    {
      "cell_type": "code",
      "source": [
        "for i in range(10):\n",
        "  print(i)\n",
        "  time.sleep(1)"
      ],
      "metadata": {
        "id": "Luj_G_I3niqo"
      },
      "execution_count": null,
      "outputs": []
    },
    {
      "cell_type": "markdown",
      "source": [
        "## وارد کردن کتابخانه٫"
      ],
      "metadata": {
        "id": "aS1O4Am7dCk2"
      }
    },
    {
      "cell_type": "code",
      "source": [
        "import math"
      ],
      "metadata": {
        "id": "UZqD4jW2n9xW"
      },
      "execution_count": null,
      "outputs": []
    },
    {
      "cell_type": "code",
      "source": [
        "from math import pi\n",
        "# وارد کردن تابعی از کتابخانه"
      ],
      "metadata": {
        "id": "ef1hgHSgoHB1"
      },
      "execution_count": null,
      "outputs": []
    },
    {
      "cell_type": "code",
      "source": [
        "pi"
      ],
      "metadata": {
        "id": "rFWzoOjqoLvL"
      },
      "execution_count": null,
      "outputs": []
    },
    {
      "cell_type": "code",
      "source": [
        "math.sqrt(16)"
      ],
      "metadata": {
        "id": "HpPq5J5JoMnM"
      },
      "execution_count": null,
      "outputs": []
    },
    {
      "cell_type": "code",
      "source": [
        "from math import *\n",
        "# وارد کردن همه توابع و مقادیر موجود در کتابخانه"
      ],
      "metadata": {
        "id": "SQ8rVn4DokOO"
      },
      "execution_count": null,
      "outputs": []
    },
    {
      "cell_type": "code",
      "source": [
        "sqrt(64)"
      ],
      "metadata": {
        "id": "rDKlU9zwooZ4"
      },
      "execution_count": null,
      "outputs": []
    },
    {
      "cell_type": "markdown",
      "source": [
        "[math library](https://docs.python.org/3/library/math.html)"
      ],
      "metadata": {
        "id": "0eLalrRLopva"
      }
    },
    {
      "cell_type": "code",
      "source": [],
      "metadata": {
        "id": "LLXxQYIwpREm"
      },
      "execution_count": null,
      "outputs": []
    }
  ]
}