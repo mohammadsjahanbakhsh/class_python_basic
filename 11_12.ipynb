{
  "nbformat": 4,
  "nbformat_minor": 0,
  "metadata": {
    "colab": {
      "private_outputs": true,
      "provenance": [],
      "authorship_tag": "ABX9TyOhomD53qxWkdwZI9FJS2ql",
      "include_colab_link": true
    },
    "kernelspec": {
      "name": "python3",
      "display_name": "Python 3"
    },
    "language_info": {
      "name": "python"
    }
  },
  "cells": [
    {
      "cell_type": "markdown",
      "metadata": {
        "id": "view-in-github",
        "colab_type": "text"
      },
      "source": [
        "<a href=\"https://colab.research.google.com/github/mohammadsjahanbakhsh/class_python_basic/blob/main/11_12.ipynb\" target=\"_parent\"><img src=\"https://colab.research.google.com/assets/colab-badge.svg\" alt=\"Open In Colab\"/></a>"
      ]
    },
    {
      "cell_type": "markdown",
      "source": [
        "\n",
        "r read\n",
        "\n",
        "w write\n",
        "\n",
        "a append\n",
        "\n",
        "rb  read image & sound\n",
        "\n",
        "wb ..."
      ],
      "metadata": {
        "id": "Q_oYYTgMkl7v"
      }
    },
    {
      "cell_type": "code",
      "execution_count": null,
      "metadata": {
        "id": "l0pxqd7tf77F"
      },
      "outputs": [],
      "source": [
        "file=open(\"test.txt\",\"r\")"
      ]
    },
    {
      "cell_type": "code",
      "source": [
        "file.read()"
      ],
      "metadata": {
        "id": "qK_LqvVjlpwq"
      },
      "execution_count": null,
      "outputs": []
    },
    {
      "cell_type": "code",
      "source": [
        "file.close()"
      ],
      "metadata": {
        "id": "UqZb2hl6k9_9"
      },
      "execution_count": null,
      "outputs": []
    },
    {
      "cell_type": "code",
      "source": [],
      "metadata": {
        "id": "g96nJ6AwlcQB"
      },
      "execution_count": null,
      "outputs": []
    },
    {
      "cell_type": "code",
      "source": [],
      "metadata": {
        "id": "37HwyT2Alc1b"
      },
      "execution_count": null,
      "outputs": []
    },
    {
      "cell_type": "code",
      "source": [],
      "metadata": {
        "id": "RMbJa_k_lBoP"
      },
      "execution_count": null,
      "outputs": []
    },
    {
      "cell_type": "code",
      "source": [
        "file=open(\"test.txt\",\"r\")"
      ],
      "metadata": {
        "id": "cfoCbPgOld0A"
      },
      "execution_count": null,
      "outputs": []
    },
    {
      "cell_type": "code",
      "source": [
        "a=file.read(3)\n",
        "print(a)"
      ],
      "metadata": {
        "id": "lXVWfGxAlBsl"
      },
      "execution_count": null,
      "outputs": []
    },
    {
      "cell_type": "code",
      "source": [
        "file.read(3)"
      ],
      "metadata": {
        "id": "7YQ35cEhssVb"
      },
      "execution_count": null,
      "outputs": []
    },
    {
      "cell_type": "code",
      "source": [
        "type(file)"
      ],
      "metadata": {
        "id": "oNd628-Zs1w9"
      },
      "execution_count": null,
      "outputs": []
    },
    {
      "cell_type": "code",
      "source": [
        "print(file.read())"
      ],
      "metadata": {
        "id": "nuO6YnaAlSSf"
      },
      "execution_count": null,
      "outputs": []
    },
    {
      "cell_type": "code",
      "source": [
        "file.close()"
      ],
      "metadata": {
        "id": "BmJsXOpollMy"
      },
      "execution_count": null,
      "outputs": []
    },
    {
      "cell_type": "code",
      "source": [
        "file=open(\"test.txt\",\"r\")"
      ],
      "metadata": {
        "id": "Gc01oBo0lufw"
      },
      "execution_count": null,
      "outputs": []
    },
    {
      "cell_type": "code",
      "source": [
        "file.readline()"
      ],
      "metadata": {
        "id": "0reTfgLUtGw6"
      },
      "execution_count": null,
      "outputs": []
    },
    {
      "cell_type": "code",
      "source": [
        "file.readlines()"
      ],
      "metadata": {
        "id": "6lmCfGwqmX1z"
      },
      "execution_count": null,
      "outputs": []
    },
    {
      "cell_type": "code",
      "source": [
        "file=open(\"test.txt\",\"r\")"
      ],
      "metadata": {
        "id": "bvBZfqtNmZkq"
      },
      "execution_count": null,
      "outputs": []
    },
    {
      "cell_type": "code",
      "source": [
        "for l in file:\n",
        "  print(l,end=\",\")"
      ],
      "metadata": {
        "id": "EErDhXBqmlZi"
      },
      "execution_count": null,
      "outputs": []
    },
    {
      "cell_type": "code",
      "source": [
        "file.close()"
      ],
      "metadata": {
        "id": "ZxGOJHkAmoF9"
      },
      "execution_count": null,
      "outputs": []
    },
    {
      "cell_type": "code",
      "source": [
        "file2 = open(\"test2.txt\",\"w\")\n",
        "\n",
        "file2.write(\"This is a test for writting a text\")"
      ],
      "metadata": {
        "id": "jfTaabM4mzY6"
      },
      "execution_count": null,
      "outputs": []
    },
    {
      "cell_type": "code",
      "source": [
        "file2.close()"
      ],
      "metadata": {
        "id": "sBfw541KnMyV"
      },
      "execution_count": null,
      "outputs": []
    },
    {
      "cell_type": "code",
      "source": [
        "file2 = open(\"test2.txt\",\"r\")\n"
      ],
      "metadata": {
        "id": "TiBSDTg9nSOj"
      },
      "execution_count": null,
      "outputs": []
    },
    {
      "cell_type": "code",
      "source": [
        "file2.read()"
      ],
      "metadata": {
        "id": "p38pMgoZnVOE"
      },
      "execution_count": null,
      "outputs": []
    },
    {
      "cell_type": "code",
      "source": [
        "file2.close()"
      ],
      "metadata": {
        "id": "aLcz0DpdnXCu"
      },
      "execution_count": null,
      "outputs": []
    },
    {
      "cell_type": "code",
      "source": [
        "names=[\"ali\",\"reza\",\"mahsa\"]\n",
        "scores=[12,14,17]\n",
        "dict_scores = {k:str(v) for k,v in zip(names,scores)}\n",
        "dict_scores"
      ],
      "metadata": {
        "id": "uIFppoxHnl7D"
      },
      "execution_count": null,
      "outputs": []
    },
    {
      "cell_type": "code",
      "source": [
        "s = []\n",
        "for i in dict_scores.items():\n",
        "    s.append(\":\".join(i))\n",
        "\n",
        "\n",
        "s2=\"\\n\".join(s)\n",
        "print(s2)"
      ],
      "metadata": {
        "id": "tqnsdq_gn_rU"
      },
      "execution_count": null,
      "outputs": []
    },
    {
      "cell_type": "code",
      "source": [
        "file=open(\"test2.txt\",'w')\n",
        "l=file.write(s2)\n",
        "file.close()"
      ],
      "metadata": {
        "id": "8L1SYcyfonQM"
      },
      "execution_count": null,
      "outputs": []
    },
    {
      "cell_type": "code",
      "source": [
        "l == len(s2)"
      ],
      "metadata": {
        "id": "nbO7oyC-ps1s"
      },
      "execution_count": null,
      "outputs": []
    },
    {
      "cell_type": "code",
      "source": [
        "\n",
        "file.close()"
      ],
      "metadata": {
        "id": "iaU4vKtLp__K"
      },
      "execution_count": null,
      "outputs": []
    },
    {
      "cell_type": "code",
      "source": [
        "try:\n",
        "  f=open(\"test2.txt\",'r')\n",
        "  print(f.read())\n",
        "\n",
        "finally:\n",
        "  f.close()"
      ],
      "metadata": {
        "id": "GHMErLhCpv4r"
      },
      "execution_count": null,
      "outputs": []
    },
    {
      "cell_type": "code",
      "source": [
        "import numpy as np"
      ],
      "metadata": {
        "id": "nzjyujkKueZ8"
      },
      "execution_count": null,
      "outputs": []
    },
    {
      "cell_type": "code",
      "source": [],
      "metadata": {
        "id": "dEZfKPIDuhLN"
      },
      "execution_count": null,
      "outputs": []
    },
    {
      "cell_type": "code",
      "source": [
        "with open(\"test2.txt\",'r') as f:\n",
        "  print(f.read())"
      ],
      "metadata": {
        "id": "4kc8_DieqeKc"
      },
      "execution_count": null,
      "outputs": []
    },
    {
      "cell_type": "code",
      "source": [],
      "metadata": {
        "id": "FDw2EZRpqqZr"
      },
      "execution_count": null,
      "outputs": []
    },
    {
      "cell_type": "code",
      "source": [
        "import pandas as pd"
      ],
      "metadata": {
        "id": "JO3Ldz1vvC8K"
      },
      "execution_count": null,
      "outputs": []
    },
    {
      "cell_type": "code",
      "source": [],
      "metadata": {
        "id": "wWvPidCFvEnK"
      },
      "execution_count": null,
      "outputs": []
    },
    {
      "cell_type": "code",
      "source": [
        "pd.read_csv(\"/content/sample_data/california_housing_train.csv\")"
      ],
      "metadata": {
        "id": "04zGGiIN0rh6"
      },
      "execution_count": null,
      "outputs": []
    },
    {
      "cell_type": "code",
      "source": [
        "pd.read_json(\"/content/sample_data/anscombe.json\")"
      ],
      "metadata": {
        "id": "RC_-qmkY1X3a"
      },
      "execution_count": null,
      "outputs": []
    },
    {
      "cell_type": "markdown",
      "source": [
        "# regex"
      ],
      "metadata": {
        "id": "B3W9POUY1YBp"
      }
    },
    {
      "cell_type": "code",
      "source": [
        "import re"
      ],
      "metadata": {
        "id": "M1Sst6Cu14pJ"
      },
      "execution_count": null,
      "outputs": []
    },
    {
      "cell_type": "code",
      "source": [
        "pattern = r\"spam\"\n",
        "\n",
        "if re.match(pattern , \"spamspamspamsfdadf\"):\n",
        "  print(\"هست\")\n",
        "else:\n",
        "  print(\"نیست\")"
      ],
      "metadata": {
        "id": "8RPw6ZNj18OL"
      },
      "execution_count": null,
      "outputs": []
    },
    {
      "cell_type": "code",
      "source": [
        "if re.search(pattern , \"spamspamspamsfdadf\"):\n",
        "  print(\"هست\")\n",
        "else:\n",
        "  print(\"نیست\")"
      ],
      "metadata": {
        "id": "eTtZsbFs2fkJ"
      },
      "execution_count": null,
      "outputs": []
    },
    {
      "cell_type": "code",
      "source": [
        "re.findall(pattern , \"spamspamspamsfdadf\")\n"
      ],
      "metadata": {
        "id": "3yk2CW-52ju5"
      },
      "execution_count": null,
      "outputs": []
    },
    {
      "cell_type": "code",
      "source": [
        "m=re.search(pattern , \"spamspamspamsfdadf\")\n",
        "m.group()\n"
      ],
      "metadata": {
        "id": "-GbS9vd62zgo"
      },
      "execution_count": null,
      "outputs": []
    },
    {
      "cell_type": "code",
      "source": [
        "m.start()"
      ],
      "metadata": {
        "id": "dt98GTmI3DzK"
      },
      "execution_count": null,
      "outputs": []
    },
    {
      "cell_type": "code",
      "source": [
        "m.end()"
      ],
      "metadata": {
        "id": "ASFaB-8y28wK"
      },
      "execution_count": null,
      "outputs": []
    },
    {
      "cell_type": "code",
      "source": [
        "\"spamspamspamsfdadf\"[0:4]"
      ],
      "metadata": {
        "id": "sPbj-0kf3J_4"
      },
      "execution_count": null,
      "outputs": []
    },
    {
      "cell_type": "code",
      "source": [
        "m.span()"
      ],
      "metadata": {
        "id": "EpbKPjkh3PXp"
      },
      "execution_count": null,
      "outputs": []
    },
    {
      "cell_type": "code",
      "source": [
        "new_str = re.sub(pattern , \"XX\" ,\"spamspamspamsfdadf\" ,count=1)\n",
        "new_str"
      ],
      "metadata": {
        "id": "Idh5fj5A3WOY"
      },
      "execution_count": null,
      "outputs": []
    },
    {
      "cell_type": "code",
      "source": [
        "p2 = r\"sp..\"\n",
        "re.findall(p2 , \"spamspamspamsfdadf\")"
      ],
      "metadata": {
        "id": "F7ZjxgGE389Z"
      },
      "execution_count": null,
      "outputs": []
    },
    {
      "cell_type": "code",
      "source": [
        "p3 = r\"^s..m\"\n",
        "re.findall(p3 , \"spamspamspamsfdadf\")"
      ],
      "metadata": {
        "id": "Ek3ZxFbh4gq4"
      },
      "execution_count": null,
      "outputs": []
    },
    {
      "cell_type": "code",
      "source": [
        "p3 = r\"..f$\"\n",
        "re.findall(p3 , \"sssspamspamspamsfdad 12f\")"
      ],
      "metadata": {
        "id": "zw2Fs4pY41Xn"
      },
      "execution_count": null,
      "outputs": []
    },
    {
      "cell_type": "markdown",
      "source": [],
      "metadata": {
        "id": "XkxU4JwR5mW3"
      }
    },
    {
      "cell_type": "code",
      "source": [
        "'''\n",
        "+ یکی یا بیشتر\n",
        "* صفر یا بیشتر\n",
        "? صفر یا یکی\n",
        "'''"
      ],
      "metadata": {
        "id": "Bj44jb2d5sh3"
      },
      "execution_count": null,
      "outputs": []
    },
    {
      "cell_type": "code",
      "source": [
        "\n",
        "p3 = r\"s+..m\"\n",
        "re.findall(p3 , \"sssspamspamspamsfdad 12f\")"
      ],
      "metadata": {
        "id": "jPWiLcer5NMH"
      },
      "execution_count": null,
      "outputs": []
    },
    {
      "cell_type": "code",
      "source": [
        "\n",
        "p3 = r\"s?..m\"\n",
        "re.findall(p3 , \"s ss sspam pam\")"
      ],
      "metadata": {
        "id": "g2eHXb0L6Hn4"
      },
      "execution_count": null,
      "outputs": []
    },
    {
      "cell_type": "code",
      "source": [
        "\n",
        "p3 = r\"s*..m\"\n",
        "re.findall(p3 , \"s ss sspam pam\")"
      ],
      "metadata": {
        "id": "qBi8QFg46S5m"
      },
      "execution_count": null,
      "outputs": []
    },
    {
      "cell_type": "code",
      "source": [
        "[0-9]\n",
        "[a-zA-z]\n",
        "[a-z]"
      ],
      "metadata": {
        "id": "0xTKITUg6c24"
      },
      "execution_count": null,
      "outputs": []
    },
    {
      "cell_type": "code",
      "source": [
        "p4=r\".[aeoui]+.\"\n",
        "s = \"sdf dsf eas as d aa\"\n",
        "s2=re.findall(p4 ,s)\n",
        "s2"
      ],
      "metadata": {
        "id": "x87GtgJu6n6p"
      },
      "execution_count": null,
      "outputs": []
    },
    {
      "cell_type": "code",
      "source": [
        "[x.strip() for x in s2]"
      ],
      "metadata": {
        "id": "np-bJENg7AP4"
      },
      "execution_count": null,
      "outputs": []
    },
    {
      "cell_type": "code",
      "source": [
        "p5 = r\"[1-9]+\"\n",
        "s = \"adsf 134 kls-3 kjfas-3 fjsa9 w0r34052359\"\n",
        "re.findall(p5 ,s)"
      ],
      "metadata": {
        "id": "GoOSQoXX7WTo"
      },
      "execution_count": null,
      "outputs": []
    },
    {
      "cell_type": "code",
      "source": [
        "p5 = r\"[0-46-9]+\"\n",
        "s = \"adsf 134 kls-3 kjfas-3 fjsa9 w0r34052359\"\n",
        "re.findall(p5 ,s)"
      ],
      "metadata": {
        "id": "aJKWFfrM72Ul"
      },
      "execution_count": null,
      "outputs": []
    },
    {
      "cell_type": "code",
      "source": [
        "l = []\n",
        "len(l) == False\n"
      ],
      "metadata": {
        "id": "hmMsRz7w9ENJ"
      },
      "execution_count": null,
      "outputs": []
    },
    {
      "cell_type": "code",
      "source": [
        "l=[]\n",
        "n  = [\"2sa\",\"as34df\",\"24af\",\"ad2\"]\n",
        "p6 = r\"^[0-9]+.+\"\n",
        "\n",
        "for i in n:\n",
        "  temp=re.findall(p6,i)\n",
        "  if len(re.findall(p6,i)) :\n",
        "    #l.extend(temp)\n",
        "    l.append(re.findall(p6,i)[0])\n",
        "\n",
        "else :\n",
        "  print(l)"
      ],
      "metadata": {
        "id": "957UMRFF-Ep2"
      },
      "execution_count": null,
      "outputs": []
    },
    {
      "cell_type": "code",
      "source": [
        "\n",
        "n  = [\"2sa\",\"as34df\",\"24af\",\"ad2\"]\n",
        "p6 = r\"^[0-9]+.+\"\n",
        "\n",
        "for i in n:\n",
        "\n",
        "\n",
        "  print(re.findall(p6,i))"
      ],
      "metadata": {
        "id": "plhtrVS47-MX"
      },
      "execution_count": null,
      "outputs": []
    },
    {
      "cell_type": "code",
      "source": [
        "[  re.findall(p6,i)[0] for i in n if len(re.findall(p6,i))]"
      ],
      "metadata": {
        "id": "YN23i6wD9euF"
      },
      "execution_count": null,
      "outputs": []
    },
    {
      "cell_type": "code",
      "source": [
        "p7 = r\".* 123(s)+ .*\"\n",
        "\n",
        "s='123 12s3 123sss 123 123'\n",
        "print(re.match(p7,s))"
      ],
      "metadata": {
        "id": "nXqaS3RD8vJH"
      },
      "execution_count": null,
      "outputs": []
    },
    {
      "cell_type": "code",
      "source": [
        "re.findall(p7,s)"
      ],
      "metadata": {
        "id": "hMnd4uAH_tUE"
      },
      "execution_count": null,
      "outputs": []
    },
    {
      "cell_type": "code",
      "source": [
        "p = r\"ice(-)?cream\"\n",
        "if re.match(p , \"ice-cream\"):\n",
        "  print(\"مچ شد\")\n",
        "else:\n",
        "  print(\"مچ نشد\")\n",
        "\n",
        "if re.match(p , \"icecream\"):\n",
        "  print(\"مچ شد\")\n",
        "else:\n",
        "  print(\"مچ نشد\")\n",
        "\n",
        "if re.match(p , \"ice--cream\"):\n",
        "  print(\"مچ شد\")\n",
        "else:\n",
        "  print(\"مچ نشد\")"
      ],
      "metadata": {
        "id": "rUVGR0Yr_XuF"
      },
      "execution_count": null,
      "outputs": []
    },
    {
      "cell_type": "code",
      "source": [
        "p = r\"ice(-)+cream\"\n",
        "if re.match(p , \"ice-cream\"):\n",
        "  print(\"مچ شد\")\n",
        "else:\n",
        "  print(\"مچ نشد\")\n",
        "\n",
        "if re.match(p , \"icecream\"):\n",
        "  print(\"مچ شد\")\n",
        "else:\n",
        "  print(\"مچ نشد\")\n",
        "\n",
        "if re.match(p , \"ice--cream\"):\n",
        "  print(\"مچ شد\")\n",
        "else:\n",
        "  print(\"مچ نشد\")"
      ],
      "metadata": {
        "id": "pAPHYwoTAikm"
      },
      "execution_count": null,
      "outputs": []
    },
    {
      "cell_type": "code",
      "source": [
        "p = r\"ice(-)*cream\"\n",
        "if re.match(p , \"ice-cream\"):\n",
        "  print(\"مچ شد\")\n",
        "else:\n",
        "  print(\"مچ نشد\")\n",
        "\n",
        "if re.match(p , \"icecream\"):\n",
        "  print(\"مچ شد\")\n",
        "else:\n",
        "  print(\"مچ نشد\")\n",
        "\n",
        "if re.match(p , \"ice--cream\"):\n",
        "  print(\"مچ شد\")\n",
        "else:\n",
        "  print(\"مچ نشد\")"
      ],
      "metadata": {
        "id": "OsRS61-QArk1"
      },
      "execution_count": null,
      "outputs": []
    }
  ]
}