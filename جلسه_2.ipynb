{
  "nbformat": 4,
  "nbformat_minor": 0,
  "metadata": {
    "colab": {
      "private_outputs": true,
      "provenance": [],
      "authorship_tag": "ABX9TyOEskROqg2CtpHiukmzEy0W",
      "include_colab_link": true
    },
    "kernelspec": {
      "name": "python3",
      "display_name": "Python 3"
    },
    "language_info": {
      "name": "python"
    }
  },
  "cells": [
    {
      "cell_type": "markdown",
      "metadata": {
        "id": "view-in-github",
        "colab_type": "text"
      },
      "source": [
        "<a href=\"https://colab.research.google.com/github/mohammadsjahanbakhsh/class_python_basic/blob/main/%D8%AC%D9%84%D8%B3%D9%87_2.ipynb\" target=\"_parent\"><img src=\"https://colab.research.google.com/assets/colab-badge.svg\" alt=\"Open In Colab\"/></a>"
      ]
    },
    {
      "cell_type": "code",
      "execution_count": null,
      "metadata": {
        "id": "L0slwZprbbmi"
      },
      "outputs": [],
      "source": [
        "a = input()"
      ]
    },
    {
      "cell_type": "code",
      "source": [
        "1\n",
        "print(a)"
      ],
      "metadata": {
        "id": "tFi6SH0QdYlm"
      },
      "execution_count": null,
      "outputs": []
    },
    {
      "cell_type": "code",
      "source": [
        "print(type(a))"
      ],
      "metadata": {
        "id": "EaiCl4aCda14"
      },
      "execution_count": null,
      "outputs": []
    },
    {
      "cell_type": "code",
      "source": [
        "n = int(input())"
      ],
      "metadata": {
        "id": "PfbdHKkydg4q"
      },
      "execution_count": null,
      "outputs": []
    },
    {
      "cell_type": "code",
      "source": [
        "print(type(n))"
      ],
      "metadata": {
        "id": "jxdzns6Cdr1l"
      },
      "execution_count": null,
      "outputs": []
    },
    {
      "cell_type": "code",
      "source": [
        "input(\"Enter number\")"
      ],
      "metadata": {
        "id": "569tbVnRdvLr"
      },
      "execution_count": null,
      "outputs": []
    },
    {
      "cell_type": "code",
      "source": [],
      "metadata": {
        "id": "2UACDlDVeC3w"
      },
      "execution_count": null,
      "outputs": []
    },
    {
      "cell_type": "code",
      "source": [
        "arr = [1,\"a\",3.2, True]"
      ],
      "metadata": {
        "id": "JJa_mCAieC97"
      },
      "execution_count": null,
      "outputs": []
    },
    {
      "cell_type": "code",
      "source": [
        "print(arr)"
      ],
      "metadata": {
        "id": "wBXUnGELeMM8"
      },
      "execution_count": null,
      "outputs": []
    },
    {
      "cell_type": "code",
      "source": [
        "arr = [1,\"a\",3.2, True]\n",
        "arr.append(\"ali\")\n",
        "print(arr)"
      ],
      "metadata": {
        "id": "Qw1gd5xZeUNM"
      },
      "execution_count": null,
      "outputs": []
    },
    {
      "cell_type": "code",
      "source": [
        "arr.remove(\"ali\")"
      ],
      "metadata": {
        "id": "pzXk9BAXe3Y-"
      },
      "execution_count": null,
      "outputs": []
    },
    {
      "cell_type": "code",
      "source": [
        "arr"
      ],
      "metadata": {
        "id": "DkZbHnnbe-cN"
      },
      "execution_count": null,
      "outputs": []
    },
    {
      "cell_type": "code",
      "source": [
        "b = arr"
      ],
      "metadata": {
        "id": "Eg3jbKuifAj5"
      },
      "execution_count": null,
      "outputs": []
    },
    {
      "cell_type": "code",
      "source": [],
      "metadata": {
        "id": "ieVXmDXFMIyP"
      },
      "execution_count": null,
      "outputs": []
    },
    {
      "cell_type": "code",
      "source": [
        "b is arr"
      ],
      "metadata": {
        "id": "SxzWU4cQMD8W"
      },
      "execution_count": null,
      "outputs": []
    },
    {
      "cell_type": "code",
      "source": [
        "id(b)"
      ],
      "metadata": {
        "id": "pet4r6CaMJyl"
      },
      "execution_count": null,
      "outputs": []
    },
    {
      "cell_type": "code",
      "source": [
        "id(arr)"
      ],
      "metadata": {
        "id": "fDdaa7XlMLMM"
      },
      "execution_count": null,
      "outputs": []
    },
    {
      "cell_type": "code",
      "source": [
        "b.append(2)"
      ],
      "metadata": {
        "id": "tmcPpTPxfPMc"
      },
      "execution_count": null,
      "outputs": []
    },
    {
      "cell_type": "code",
      "source": [
        "print(arr)"
      ],
      "metadata": {
        "id": "R6crv059fSAe"
      },
      "execution_count": null,
      "outputs": []
    },
    {
      "cell_type": "code",
      "source": [
        "b = arr.copy()"
      ],
      "metadata": {
        "id": "X-mKXmRBfZor"
      },
      "execution_count": null,
      "outputs": []
    },
    {
      "cell_type": "code",
      "source": [
        "list2 = ['a', 'a', 'a', 'b', 'b', 'a', 'c', 'b']\n",
        "print(list2.count('b'))"
      ],
      "metadata": {
        "id": "n1Ukf4egfz9p"
      },
      "execution_count": null,
      "outputs": []
    },
    {
      "cell_type": "code",
      "source": [
        "arr.index(3.2)"
      ],
      "metadata": {
        "id": "sQDZzhJXgTV9"
      },
      "execution_count": null,
      "outputs": []
    },
    {
      "cell_type": "code",
      "source": [
        "arr.insert(0,11)"
      ],
      "metadata": {
        "id": "1HK6t8n2gemL"
      },
      "execution_count": null,
      "outputs": []
    },
    {
      "cell_type": "code",
      "source": [
        "arr"
      ],
      "metadata": {
        "id": "uv0hsyuIgxHU"
      },
      "execution_count": null,
      "outputs": []
    },
    {
      "cell_type": "code",
      "source": [
        "arr.pop()"
      ],
      "metadata": {
        "id": "xrSM3Fo-g53r"
      },
      "execution_count": null,
      "outputs": []
    },
    {
      "cell_type": "code",
      "source": [
        "temp= arr.pop()"
      ],
      "metadata": {
        "id": "xOOaQVDMg9eW"
      },
      "execution_count": null,
      "outputs": []
    },
    {
      "cell_type": "code",
      "source": [
        "temp"
      ],
      "metadata": {
        "id": "Q1746mNyhHDB"
      },
      "execution_count": null,
      "outputs": []
    },
    {
      "cell_type": "code",
      "source": [
        "arr"
      ],
      "metadata": {
        "id": "W915B1jJhKkF"
      },
      "execution_count": null,
      "outputs": []
    },
    {
      "cell_type": "code",
      "source": [
        "list1 = list(range(11))"
      ],
      "metadata": {
        "id": "FF_3YQPzhSiR"
      },
      "execution_count": null,
      "outputs": []
    },
    {
      "cell_type": "code",
      "source": [
        "list1"
      ],
      "metadata": {
        "id": "nm2o75nShaMu"
      },
      "execution_count": null,
      "outputs": []
    },
    {
      "cell_type": "code",
      "source": [
        "list1.sort(reverse=True)"
      ],
      "metadata": {
        "id": "KkE1ugXChcC_"
      },
      "execution_count": null,
      "outputs": []
    },
    {
      "cell_type": "code",
      "source": [
        "list1"
      ],
      "metadata": {
        "id": "xV22VOtxhm54"
      },
      "execution_count": null,
      "outputs": []
    },
    {
      "cell_type": "code",
      "source": [
        "list(range(4))"
      ],
      "metadata": {
        "id": "2GwulRnEht78"
      },
      "execution_count": null,
      "outputs": []
    },
    {
      "cell_type": "code",
      "source": [
        "print(type(range(2,6)))"
      ],
      "metadata": {
        "id": "7wQmpewOM0W3"
      },
      "execution_count": null,
      "outputs": []
    },
    {
      "cell_type": "code",
      "source": [
        "list(range(2,6))"
      ],
      "metadata": {
        "id": "xH_XQPACh6Yy"
      },
      "execution_count": null,
      "outputs": []
    },
    {
      "cell_type": "code",
      "source": [
        "list(range(1,20,3))"
      ],
      "metadata": {
        "id": "IliYh2D9iABX"
      },
      "execution_count": null,
      "outputs": []
    },
    {
      "cell_type": "code",
      "source": [
        "list(range(0,10,2))"
      ],
      "metadata": {
        "id": "ZWRkilcViHIL"
      },
      "execution_count": null,
      "outputs": []
    },
    {
      "cell_type": "code",
      "source": [
        "list(range(10,0,-2))"
      ],
      "metadata": {
        "id": "GmdAEU5giObQ"
      },
      "execution_count": null,
      "outputs": []
    },
    {
      "cell_type": "code",
      "source": [
        "\"@\".isalnum()"
      ],
      "metadata": {
        "id": "yw997RUpiVEy"
      },
      "execution_count": null,
      "outputs": []
    },
    {
      "cell_type": "code",
      "source": [
        "print(\"a\".isalnum())\n",
        "\"2\".isalnum()"
      ],
      "metadata": {
        "id": "qX_veESZi6pb"
      },
      "execution_count": null,
      "outputs": []
    },
    {
      "cell_type": "code",
      "source": [
        "\"\"\"\n",
        "split()\tSplits the string at the 11specified separator, and returns a list\n",
        "splitlines()\tSplits the string at line breaks and returns a list\n",
        "startswith()\tReturns true if the string starts with the specified value\n",
        "strip()\tReturns a trimmed version of the string\n",
        "swapcase()\tSwaps cases, lower case becomes upper case and vice versa\n",
        "title()\tConverts the first character of each word to upper case\n",
        "translate()\tReturns a translated string\n",
        "upper()\tConverts a string into upper case\n",
        "zfill()\tFills the string with a specified number of 0 values at the beginning\n",
        "Note: All string methods returns new values. They do not change the original string.\n",
        "\"\"\"\n",
        "\n",
        "s='''\n",
        "ajj\n",
        "'''\n",
        "# مثال\n",
        "# حلقه"
      ],
      "metadata": {
        "id": "UMxmGIW-jOro"
      },
      "execution_count": null,
      "outputs": []
    },
    {
      "cell_type": "code",
      "source": [
        "list1"
      ],
      "metadata": {
        "id": "h2SIKT-3jfug"
      },
      "execution_count": null,
      "outputs": []
    },
    {
      "cell_type": "code",
      "source": [
        "s = list(\"string\")\n",
        "s"
      ],
      "metadata": {
        "id": "jmhwqc8MkzJy"
      },
      "execution_count": null,
      "outputs": []
    },
    {
      "cell_type": "code",
      "source": [
        "\",\".join(s)"
      ],
      "metadata": {
        "id": "t0Qj9_d1kld_"
      },
      "execution_count": null,
      "outputs": []
    },
    {
      "cell_type": "code",
      "source": [
        "s1 = \" file    \""
      ],
      "metadata": {
        "id": "uCfHpYBQlEpL"
      },
      "execution_count": null,
      "outputs": []
    },
    {
      "cell_type": "code",
      "source": [
        "print(len(s1.strip()))\n",
        "print( \"fds\",s1.strip(),\"dsfg\")\n",
        "print( \"vbfgds\",s1.strip(),\"dfgsdg\"    ,sep=\"!\")"
      ],
      "metadata": {
        "id": "WxwO9uZ8lL2E"
      },
      "execution_count": null,
      "outputs": []
    },
    {
      "cell_type": "code",
      "source": [
        "s2=\"Splits the string at,the,11specified\"\n",
        "s2.split()"
      ],
      "metadata": {
        "id": "juW1KBYmlQct"
      },
      "execution_count": null,
      "outputs": []
    },
    {
      "cell_type": "code",
      "source": [
        "print(*s2.split(\",\"),sep=\"#\")"
      ],
      "metadata": {
        "id": "LKRzTLfUmYT0"
      },
      "execution_count": null,
      "outputs": []
    },
    {
      "cell_type": "code",
      "source": [
        "\"#\".join(s2.split(\",\"))"
      ],
      "metadata": {
        "id": "2n7SIa7Mms-4"
      },
      "execution_count": null,
      "outputs": []
    },
    {
      "cell_type": "code",
      "source": [
        "print(type(s2))\n",
        "s2"
      ],
      "metadata": {
        "id": "xar2drmYm6zt"
      },
      "execution_count": null,
      "outputs": []
    },
    {
      "cell_type": "code",
      "source": [
        "s2 = s2.replace(\"1\",\"2\")\n",
        "s2"
      ],
      "metadata": {
        "id": "H9xCjlzZm_jy"
      },
      "execution_count": null,
      "outputs": []
    },
    {
      "cell_type": "code",
      "source": [
        "s2.replace(\",\",\"$\",1)"
      ],
      "metadata": {
        "id": "QESH3TLZnIS3"
      },
      "execution_count": null,
      "outputs": []
    },
    {
      "cell_type": "code",
      "source": [],
      "metadata": {
        "id": "TyHUmte5uxD7"
      },
      "execution_count": null,
      "outputs": []
    },
    {
      "cell_type": "code",
      "source": [],
      "metadata": {
        "id": "NzQb-_ttuxJ0"
      },
      "execution_count": null,
      "outputs": []
    },
    {
      "cell_type": "code",
      "source": [
        "list1"
      ],
      "metadata": {
        "id": "HYtfLkAIuxLd"
      },
      "execution_count": null,
      "outputs": []
    },
    {
      "cell_type": "code",
      "source": [
        "sum(list1)"
      ],
      "metadata": {
        "id": "A_oIvwiyvKwx"
      },
      "execution_count": null,
      "outputs": []
    },
    {
      "cell_type": "code",
      "source": [
        "len(list1)# تعداد عناصر"
      ],
      "metadata": {
        "id": "oCuHfjdSvPHh"
      },
      "execution_count": null,
      "outputs": []
    },
    {
      "cell_type": "code",
      "source": [
        "max(list1)\n",
        "# min"
      ],
      "metadata": {
        "id": "KtMcqxifvXEd"
      },
      "execution_count": null,
      "outputs": []
    },
    {
      "cell_type": "code",
      "source": [
        "sorted([4,15,12])"
      ],
      "metadata": {
        "id": "U2i7kXnGvgRk"
      },
      "execution_count": null,
      "outputs": []
    },
    {
      "cell_type": "code",
      "source": [
        "## False\n",
        "# 0\n",
        "# False\n",
        "# None\n"
      ],
      "metadata": {
        "id": "EWITZLNlvjuf"
      },
      "execution_count": null,
      "outputs": []
    },
    {
      "cell_type": "code",
      "source": [
        "a = None"
      ],
      "metadata": {
        "id": "lz1_xDDWv2Ok"
      },
      "execution_count": null,
      "outputs": []
    },
    {
      "cell_type": "code",
      "source": [
        "if list1:\n",
        "  print(\"1 por\")\n",
        "if a:\n",
        "  print(\"2 por\")\n"
      ],
      "metadata": {
        "id": "enKwEP4Ovo2-"
      },
      "execution_count": null,
      "outputs": []
    },
    {
      "cell_type": "code",
      "source": [
        "list1"
      ],
      "metadata": {
        "id": "B5gdNQ2xO7ac"
      },
      "execution_count": null,
      "outputs": []
    },
    {
      "cell_type": "code",
      "source": [
        "all(list1)"
      ],
      "metadata": {
        "id": "R2ZOF-FQwh1_"
      },
      "execution_count": null,
      "outputs": []
    },
    {
      "cell_type": "code",
      "source": [
        "any(list1)"
      ],
      "metadata": {
        "id": "MUG84U4GwnXU"
      },
      "execution_count": null,
      "outputs": []
    },
    {
      "cell_type": "code",
      "source": [
        "list2= [10, 9, 8, 7, 6, 5, 4, 3, 2, 1]"
      ],
      "metadata": {
        "id": "xdIUi_D3wta0"
      },
      "execution_count": null,
      "outputs": []
    },
    {
      "cell_type": "code",
      "source": [
        "all(list2)"
      ],
      "metadata": {
        "id": "mUXy_wmjwv9-"
      },
      "execution_count": null,
      "outputs": []
    },
    {
      "cell_type": "code",
      "source": [
        "list3 = [0,None,False]\n",
        "print(any(list3))\n",
        "not any(list3)"
      ],
      "metadata": {
        "id": "0D_V49-xwyVl"
      },
      "execution_count": null,
      "outputs": []
    },
    {
      "cell_type": "code",
      "source": [
        "sorted(list2)"
      ],
      "metadata": {
        "id": "UXixhu6UxGWR"
      },
      "execution_count": null,
      "outputs": []
    },
    {
      "cell_type": "code",
      "source": [
        "1 in list2"
      ],
      "metadata": {
        "id": "5k4aGdClxO_i"
      },
      "execution_count": null,
      "outputs": []
    },
    {
      "cell_type": "code",
      "source": [
        "12 not in list2"
      ],
      "metadata": {
        "id": "udRoN-ciPX26"
      },
      "execution_count": null,
      "outputs": []
    },
    {
      "cell_type": "code",
      "source": [],
      "metadata": {
        "id": "Q1wF4fd0PUFY"
      },
      "execution_count": null,
      "outputs": []
    },
    {
      "cell_type": "markdown",
      "source": [
        "## حلقه ها\n",
        "while , for"
      ],
      "metadata": {
        "id": "QqaY4LxNxPFi"
      }
    },
    {
      "cell_type": "code",
      "source": [
        "for i in list2 :\n",
        "  print(i)"
      ],
      "metadata": {
        "id": "P5Y6yQlgxXBu"
      },
      "execution_count": null,
      "outputs": []
    },
    {
      "cell_type": "code",
      "source": [
        "#for (i=0 ; i<10 ; i+=1)"
      ],
      "metadata": {
        "id": "EMMbiN1hPtwo"
      },
      "execution_count": null,
      "outputs": []
    },
    {
      "cell_type": "code",
      "source": [
        "for i in range(10):\n",
        "  if i % 2 == 0 :\n",
        "    print(i)\n",
        "  else:\n",
        "    print(\"*\")"
      ],
      "metadata": {
        "id": "njHc4nwByA5H"
      },
      "execution_count": null,
      "outputs": []
    },
    {
      "cell_type": "code",
      "source": [
        "for i in range(10,21):\n",
        "  if i % 3 == 0 :\n",
        "    print(i)\n",
        "  else:\n",
        "    print(\"*\")"
      ],
      "metadata": {
        "id": "tmPk5f05yWj7"
      },
      "execution_count": null,
      "outputs": []
    },
    {
      "cell_type": "markdown",
      "source": [
        "## تا اینجا گفتم"
      ],
      "metadata": {
        "id": "iylbRK8TEpY3"
      }
    },
    {
      "cell_type": "code",
      "source": [
        "s = \"al#i \\n \\t \\\" \\\\b!!ad سیب ترa^st. 28\"\n",
        "s"
      ],
      "metadata": {
        "id": "UGxoYun4RUal"
      },
      "execution_count": null,
      "outputs": []
    },
    {
      "cell_type": "code",
      "source": [
        "s = 'al#i \\n \\t \" b!!ad سیب ترa^st. 28'\n",
        "l = []\n",
        "\n",
        "for i in s:\n",
        "  if i.isalnum():\n",
        "    l.append(i)\n",
        "\n",
        "print(l)"
      ],
      "metadata": {
        "id": "vX8N6zrHyuOB"
      },
      "execution_count": null,
      "outputs": []
    },
    {
      "cell_type": "code",
      "source": [
        "# همه حروف الفبا در متن\n",
        "l = []\n",
        "\n",
        "for i in s:\n",
        "  if i.isalpha():\n",
        "    l.append(i)\n",
        "\n",
        "print(l)\n",
        "# 👇 چسباندن لیست و تبدیل به متن 👇\n",
        "print(\"\".join(l))\n"
      ],
      "metadata": {
        "id": "0jWhFvbc-faP"
      },
      "execution_count": null,
      "outputs": []
    },
    {
      "cell_type": "code",
      "source": [
        "# همه اعداد در متن\n",
        "l = []\n",
        "\n",
        "for i in s:\n",
        "  if i.isdigit():\n",
        "    l.append(i)\n",
        "\n",
        "print(l)\n",
        "print(\"\".join(l))\n"
      ],
      "metadata": {
        "id": "emAoIL1j_ChC"
      },
      "execution_count": null,
      "outputs": []
    },
    {
      "cell_type": "code",
      "source": [],
      "metadata": {
        "id": "Ia5FdH8OQ0uG"
      },
      "execution_count": null,
      "outputs": []
    },
    {
      "cell_type": "code",
      "source": [
        "\n",
        "l = []\n",
        "l2=list()\n",
        "\n",
        "for i in s:\n",
        "  if i.isascii():\n",
        "    print(\"_\",i)\n",
        "    l.append(i)\n",
        "    if i.isalpha():\n",
        "      l2.append(i)\n",
        "\n",
        "print(l)\n",
        "print(\"\".join(l))\n",
        "print(\"\".join(l2))"
      ],
      "metadata": {
        "id": "kv8DSUW7_uES"
      },
      "execution_count": null,
      "outputs": []
    },
    {
      "cell_type": "code",
      "source": [
        "# همه اعداد در متن\n",
        "l = []\n",
        "l2=list()\n",
        "\n",
        "for i in s:\n",
        "  if i.isascii():\n",
        "    l.append(i)\n",
        "    if i.isalpha():\n",
        "      l2.append(i)\n",
        "\n",
        "print(l)\n",
        "print(\"\".join(l))\n",
        "print(\"\".join(l2))"
      ],
      "metadata": {
        "id": "sao5Z6UVFOSQ"
      },
      "execution_count": null,
      "outputs": []
    },
    {
      "cell_type": "code",
      "source": [
        "# جدا کردن حروف فارسی و عدد ها\n",
        "fa_num = []\n",
        "\n",
        "\n",
        "for i in s:\n",
        "  if (not i.isascii() and i.isalpha() ) or i.isdigit():\n",
        "\n",
        "    fa_num.append(i)\n",
        "\n",
        "\n",
        "\n",
        "print(\"\".join(fa_num))\n"
      ],
      "metadata": {
        "id": "cmuX0d_W_hnG"
      },
      "execution_count": null,
      "outputs": []
    },
    {
      "cell_type": "code",
      "source": [
        "# جدا کردن حروف فارسی و عدد ها\n",
        "fa_num = []\n",
        "\n",
        "\n",
        "for i in s:\n",
        "  # چرا اشتباس ؟؟\n",
        "  if (not i.isascii() and i.isalnum() ) :\n",
        "    fa_num.append(i)\n",
        "\n",
        "\n",
        "\n",
        "print(\"\".join(fa_num))\n"
      ],
      "metadata": {
        "id": "avZOU03HEkaR"
      },
      "execution_count": null,
      "outputs": []
    },
    {
      "cell_type": "code",
      "source": [],
      "metadata": {
        "id": "aw0hOEVgCV0t"
      },
      "execution_count": null,
      "outputs": []
    },
    {
      "cell_type": "markdown",
      "source": [
        "# f-string\n",
        "  اگر بخواهیم داخل متنی که پرینت میکنیم مقدار یک متغیر را چاپ کنیم ازاف\n",
        "  استرینگ  استفاده میکنیم\n",
        "\n",
        "👇 نحوه استفاده  \n",
        "\n",
        "\n",
        "  **print(f\" matn {variable_name} matn \")**\n",
        "\n",
        "\n",
        "  [لینک مثال و اموزش بیشتر](https://www.geeksforgeeks.org/formatted-string-literals-f-strings-python/)"
      ],
      "metadata": {
        "id": "jU4rBQF681uS"
      }
    },
    {
      "cell_type": "code",
      "source": [
        "# محاسبه تقسیم صحیح عددی بر دیگری با استفاده از حلقه\n",
        "# n = int(input())\n",
        "# m = int(input())\n",
        "n =192\n",
        "m = 10\n",
        "\n",
        "s=0\n",
        "while(True):\n",
        "\n",
        "  if n < m:\n",
        "      break\n",
        "  else:\n",
        "    s+=1\n",
        "\n",
        "    n-=m # n= n-m\n",
        "\n",
        "\n",
        "print(f\"{n} % {m} = {s}\")\n"
      ],
      "metadata": {
        "id": "e9wwH-07zOn9"
      },
      "execution_count": null,
      "outputs": []
    },
    {
      "cell_type": "code",
      "source": [
        "n =192\n",
        "m = 10\n",
        "s=0\n",
        "while(True):\n",
        "  if n < m:\n",
        "      break\n",
        "  s+=1\n",
        "  n-=m\n",
        "\n",
        "print(f\"{n} % {m} = {s} \")\n",
        "print(\"%d sdf\" %m)"
      ],
      "metadata": {
        "id": "kPMYvzdVC3U1"
      },
      "execution_count": null,
      "outputs": []
    },
    {
      "cell_type": "code",
      "source": [
        "n =192\n",
        "m = 10\n",
        "s=0\n",
        "\n",
        "# while تا زمانیکه\n",
        "while(n > m):\n",
        "  s+=1\n",
        "  n-=m\n",
        "\n",
        "print(f\"{n} % {m} = {s} \")"
      ],
      "metadata": {
        "id": "UHqb6P6vEShk"
      },
      "execution_count": null,
      "outputs": []
    },
    {
      "cell_type": "code",
      "source": [
        "fruits = [\"سیب\", \"موز\", \"پرتقال\"]\n",
        "for fruit in fruits:\n",
        "    print(fruit)\n",
        "\"گلابی\"\n",
        "\"آناناس\"\n",
        "\"پرتقال\"\n",
        "اگر میوه هایی که از ورودی گرفتیم در لیست نبود به آن اضافه کنیم\n"
      ],
      "metadata": {
        "id": "jp4i1BqwEvHg"
      },
      "execution_count": null,
      "outputs": []
    },
    {
      "cell_type": "code",
      "source": [
        "'''\n",
        "دو میوه به عنوان ورودی داریم هر کدام در لیست نبود\n",
        " به لیست میوه ها اضافه کنید\n",
        "'''\n",
        "\n",
        "fruits = [\"سیب\", \"موز\", \"پرتقال\"]\n",
        "input1 = \"موز\"\n",
        "input2 = \"گلابی\"\n",
        "\n",
        "if input1 in fruits:\n",
        "  print(f\"{input1} هست\")\n",
        "else:\n",
        "  print(f\"{input1} نیس\")\n",
        "\n",
        "\n",
        "\n",
        "if input2 in fruits:\n",
        "  print(f\"{input2} هست\")\n",
        "else:\n",
        "  print(f\"{input2} نیس\")\n",
        "\n",
        "\n",
        "if input1 not in fruits:\n",
        "  fruits.append(input1)\n",
        "if input2 not in fruits:\n",
        "  fruits.append(input2)\n",
        "\n",
        "\n",
        "\n",
        "fruits"
      ],
      "metadata": {
        "id": "JvQN5N0SFsnf"
      },
      "execution_count": null,
      "outputs": []
    },
    {
      "cell_type": "code",
      "source": [
        "fruits = [\"سیب\", \"موز\", \"پرتقال\"]"
      ],
      "metadata": {
        "id": "C20lwR8VXK-1"
      },
      "execution_count": null,
      "outputs": []
    },
    {
      "cell_type": "code",
      "source": [
        "for i in range(3):\n",
        "  temp = input()\n",
        "  if temp not in fruits :\n",
        "    fruits.append(temp)"
      ],
      "metadata": {
        "id": "0UQ09OzaW9cV"
      },
      "execution_count": null,
      "outputs": []
    },
    {
      "cell_type": "code",
      "source": [
        "fruits"
      ],
      "metadata": {
        "id": "nX9WUrmLXZx0"
      },
      "execution_count": null,
      "outputs": []
    },
    {
      "cell_type": "markdown",
      "source": [
        "## slicing\n"
      ],
      "metadata": {
        "id": "MVnph0cFBwRW"
      }
    },
    {
      "cell_type": "code",
      "source": [],
      "metadata": {
        "id": "xtgT2J4MXluj"
      },
      "execution_count": null,
      "outputs": []
    },
    {
      "cell_type": "code",
      "source": [
        "fruits[0]"
      ],
      "metadata": {
        "id": "2Mb0wxAFHAvz"
      },
      "execution_count": null,
      "outputs": []
    },
    {
      "cell_type": "code",
      "source": [
        "fruits[0:2]"
      ],
      "metadata": {
        "id": "cmN6Bp2aHCzm"
      },
      "execution_count": null,
      "outputs": []
    },
    {
      "cell_type": "code",
      "source": [
        "nums = range(0,10)\n",
        "print(type(nums))\n",
        "print(nums)\n",
        "nums = list(nums)\n",
        "print(type(nums))\n",
        "print(nums)"
      ],
      "metadata": {
        "id": "Nx80IIzVHFC2"
      },
      "execution_count": null,
      "outputs": []
    },
    {
      "cell_type": "code",
      "source": [
        "nums[0:]\n",
        "\n",
        "# [start : stop : step]\n",
        "# [گام : توقف : شروع]\n",
        "# پیشفرض شروع اگر ما ننویسیم 0 است\n",
        "# پیشفرض توقف اگر ما ننویسیم 1- است\n",
        "# پیشفرض گام اگر ما ننویسیم   1 است"
      ],
      "metadata": {
        "id": "szF32InXHlBp"
      },
      "execution_count": null,
      "outputs": []
    },
    {
      "cell_type": "code",
      "source": [
        "print(nums[0:3])\n",
        "print(nums[:3])"
      ],
      "metadata": {
        "id": "SRuEr6nkHqxL"
      },
      "execution_count": null,
      "outputs": []
    },
    {
      "cell_type": "code",
      "source": [
        "nums[::2]"
      ],
      "metadata": {
        "id": "25NswRCQHs63"
      },
      "execution_count": null,
      "outputs": []
    },
    {
      "cell_type": "code",
      "source": [
        "nums[-1] #  عنصر اخر"
      ],
      "metadata": {
        "id": "_2eUlTcQHwyS"
      },
      "execution_count": null,
      "outputs": []
    },
    {
      "cell_type": "code",
      "source": [
        "nums[-2] # یکی مونده به اخر"
      ],
      "metadata": {
        "id": "j-DLefHIMDjb"
      },
      "execution_count": null,
      "outputs": []
    },
    {
      "cell_type": "code",
      "source": [
        "nums[::-1] # معکوس"
      ],
      "metadata": {
        "id": "j4gQq0QdMIUn"
      },
      "execution_count": null,
      "outputs": []
    }
  ]
}