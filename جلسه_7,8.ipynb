{
  "nbformat": 4,
  "nbformat_minor": 0,
  "metadata": {
    "colab": {
      "private_outputs": true,
      "provenance": [],
      "authorship_tag": "ABX9TyPC2UtGNdwIgN3xWzSzBMaB",
      "include_colab_link": true
    },
    "kernelspec": {
      "name": "python3",
      "display_name": "Python 3"
    },
    "language_info": {
      "name": "python"
    }
  },
  "cells": [
    {
      "cell_type": "markdown",
      "metadata": {
        "id": "view-in-github",
        "colab_type": "text"
      },
      "source": [
        "<a href=\"https://colab.research.google.com/github/mohammadsjahanbakhsh/class_python_basic/blob/main/%D8%AC%D9%84%D8%B3%D9%87_7%2C8.ipynb\" target=\"_parent\"><img src=\"https://colab.research.google.com/assets/colab-badge.svg\" alt=\"Open In Colab\"/></a>"
      ]
    },
    {
      "cell_type": "code",
      "execution_count": null,
      "metadata": {
        "id": "TJFzfZfEHc7P"
      },
      "outputs": [],
      "source": [
        "# enumerate"
      ]
    },
    {
      "cell_type": "markdown",
      "source": [
        "[map filter lambda ](https://www.geeksforgeeks.org/python-lambda-anonymous-functions-filter-map-reduce/)"
      ],
      "metadata": {
        "id": "y1uOxizTqrGE"
      }
    },
    {
      "cell_type": "code",
      "source": [
        "# *args"
      ],
      "metadata": {
        "id": "FCy_T1OwHjfZ"
      },
      "execution_count": null,
      "outputs": []
    },
    {
      "cell_type": "code",
      "source": [
        "# sorted(key=)"
      ],
      "metadata": {
        "id": "OyA38-LNHpII"
      },
      "execution_count": null,
      "outputs": []
    },
    {
      "cell_type": "code",
      "source": [
        "#filter"
      ],
      "metadata": {
        "id": "KRSN0uanHtuU"
      },
      "execution_count": null,
      "outputs": []
    },
    {
      "cell_type": "code",
      "source": [
        "age = 20\n",
        "\n",
        "# One-liner if-else statement\n",
        "age_group = \"Minor\" if age < 18 else \"Adult\"\n",
        "\n",
        "print(age_group)"
      ],
      "metadata": {
        "id": "y-4nSLzEHwE9"
      },
      "execution_count": null,
      "outputs": []
    },
    {
      "cell_type": "code",
      "source": [
        "age = 20\n",
        "if age < 18:\n",
        "    age_group = \"Minor\"\n",
        "else:\n",
        "    age_group = \"Adult\"\n",
        "print(age_group)"
      ],
      "metadata": {
        "id": "ks7KQBipIKmv"
      },
      "execution_count": null,
      "outputs": []
    },
    {
      "cell_type": "code",
      "source": [
        "# map cube"
      ],
      "metadata": {
        "id": "7hi6wbWlIglj"
      },
      "execution_count": null,
      "outputs": []
    },
    {
      "cell_type": "code",
      "source": [
        "myStrings = [\"Python\",\"Java\",\"PHP\",\"Scala\"] # lower upper"
      ],
      "metadata": {
        "id": "cPQoYNCNIhrd"
      },
      "execution_count": null,
      "outputs": []
    },
    {
      "cell_type": "code",
      "source": [
        "# n * -1"
      ],
      "metadata": {
        "id": "UvkG5EdGIxOt"
      },
      "execution_count": null,
      "outputs": []
    },
    {
      "cell_type": "code",
      "source": [
        "Max = lambda a, b : a if(a > b) else b"
      ],
      "metadata": {
        "id": "u_hoPX2FJUYa"
      },
      "execution_count": null,
      "outputs": []
    },
    {
      "cell_type": "code",
      "source": [],
      "metadata": {
        "id": "aCjoxDvwJsw7"
      },
      "execution_count": null,
      "outputs": []
    },
    {
      "cell_type": "markdown",
      "source": [],
      "metadata": {
        "id": "J5SO-LC7Js0Z"
      }
    },
    {
      "cell_type": "code",
      "source": [
        "age = 20"
      ],
      "metadata": {
        "id": "zluK4XOmJtSE"
      },
      "execution_count": null,
      "outputs": []
    },
    {
      "cell_type": "code",
      "source": [
        "age2 = \"yes\" if age > 20 else \"no\""
      ],
      "metadata": {
        "id": "bGn0SBrMJ2CS"
      },
      "execution_count": null,
      "outputs": []
    },
    {
      "cell_type": "code",
      "source": [],
      "metadata": {
        "id": "m-k5-QTmJtX8"
      },
      "execution_count": null,
      "outputs": []
    },
    {
      "cell_type": "code",
      "source": [
        "f = lambda x : -1*x if x< 0 else x"
      ],
      "metadata": {
        "id": "Diuwde04Jtbk"
      },
      "execution_count": null,
      "outputs": []
    },
    {
      "cell_type": "code",
      "source": [
        "list1=[-1,2,42,-43]"
      ],
      "metadata": {
        "id": "obwTjjWNJtfH"
      },
      "execution_count": null,
      "outputs": []
    },
    {
      "cell_type": "code",
      "source": [
        "list(map(f , list1))"
      ],
      "metadata": {
        "id": "ghYrtXuZKem5"
      },
      "execution_count": null,
      "outputs": []
    },
    {
      "cell_type": "code",
      "source": [
        "list( filter(lambda x: x>0 , list1) )"
      ],
      "metadata": {
        "id": "D_3q9IMGKrby"
      },
      "execution_count": null,
      "outputs": []
    },
    {
      "cell_type": "code",
      "source": [
        "power2=list(map(lambda x:x**2 , list(range(1,10))) )\n",
        "power2"
      ],
      "metadata": {
        "id": "gSxy8P0WLCYz"
      },
      "execution_count": null,
      "outputs": []
    },
    {
      "cell_type": "code",
      "source": [
        "# جداکردن اعداد بزرگتر از 50 در یک لیست\n",
        "tuple(filter (lambda x: x>50 , power2) )"
      ],
      "metadata": {
        "id": "nT53mSAHLWGL"
      },
      "execution_count": null,
      "outputs": []
    },
    {
      "cell_type": "code",
      "source": [
        "tuple(filter (lambda x: x<50 and x%2==0 , power2) )"
      ],
      "metadata": {
        "id": "sqZUb-k2LtRD"
      },
      "execution_count": null,
      "outputs": []
    },
    {
      "cell_type": "code",
      "source": [
        "for i in range(len(power2)):\n",
        "  print(power2[i])"
      ],
      "metadata": {
        "id": "Y44pgspxL6TX"
      },
      "execution_count": null,
      "outputs": []
    },
    {
      "cell_type": "code",
      "source": [
        "for i  in power2:\n",
        "  print(i)"
      ],
      "metadata": {
        "id": "iEc78RdnMImt"
      },
      "execution_count": null,
      "outputs": []
    },
    {
      "cell_type": "code",
      "source": [
        "power2"
      ],
      "metadata": {
        "id": "R7dTioYxMmBd"
      },
      "execution_count": null,
      "outputs": []
    },
    {
      "cell_type": "code",
      "source": [
        "for i,j in enumerate(power2):\n",
        "  print(i,j)"
      ],
      "metadata": {
        "id": "Kg8qMvu8MSYU"
      },
      "execution_count": null,
      "outputs": []
    },
    {
      "cell_type": "code",
      "source": [
        "numbers=[]\n",
        "for i in enumerate(power2):\n",
        "  print(i)\n",
        "  numbers.append(i)"
      ],
      "metadata": {
        "id": "Wtlz3Ps-MpkD"
      },
      "execution_count": null,
      "outputs": []
    },
    {
      "cell_type": "code",
      "source": [
        "numbers = [(4, 1), (1, 36), (28, 9), (3, 16), (4,49 ), (5, 0), (6, 2), (8, 64), (7, 15)]"
      ],
      "metadata": {
        "id": "lAR2aB6kMiqs"
      },
      "execution_count": null,
      "outputs": []
    },
    {
      "cell_type": "code",
      "source": [
        "numbers"
      ],
      "metadata": {
        "id": "IQHuKsoiNXlX"
      },
      "execution_count": null,
      "outputs": []
    },
    {
      "cell_type": "code",
      "source": [
        "sorted(numbers)"
      ],
      "metadata": {
        "id": "1m8x9gGXNYWG"
      },
      "execution_count": null,
      "outputs": []
    },
    {
      "cell_type": "code",
      "source": [
        "sorted (numbers, key=lambda x:x[1])"
      ],
      "metadata": {
        "id": "0KxBQiwuNbtF"
      },
      "execution_count": null,
      "outputs": []
    },
    {
      "cell_type": "code",
      "source": [
        "s1 = {\n",
        "    \"ali\":[19,24,2800]\n",
        "}\n",
        "s2 = {\n",
        "    \"reza\":[15,22,3800] ,\n",
        "    \"mahsa\":[189,34,3500]\n",
        "\n",
        "}\n",
        "s1.update(s2)\n"
      ],
      "metadata": {
        "id": "791V_-kvYY3D"
      },
      "execution_count": null,
      "outputs": []
    },
    {
      "cell_type": "code",
      "source": [
        "s1"
      ],
      "metadata": {
        "id": "oR9XuMtHYiVh"
      },
      "execution_count": null,
      "outputs": []
    },
    {
      "cell_type": "code",
      "source": [
        "del s1[\"ali\"]"
      ],
      "metadata": {
        "id": "HMmgwBQaYlC_"
      },
      "execution_count": null,
      "outputs": []
    },
    {
      "cell_type": "code",
      "source": [
        "s1"
      ],
      "metadata": {
        "id": "vtTR1U45Ynnu"
      },
      "execution_count": null,
      "outputs": []
    },
    {
      "cell_type": "code",
      "source": [
        "student ={\n",
        "    \"ali\":[19,24,2800] ,\n",
        "    \"reza\":[15,22,3800] ,\n",
        "    \"mahsa\":[189,34,3500] ,\n",
        "}"
      ],
      "metadata": {
        "id": "dasj6IZyN0oA"
      },
      "execution_count": null,
      "outputs": []
    },
    {
      "cell_type": "code",
      "source": [
        "s1"
      ],
      "metadata": {
        "id": "w9-SC3hjYXiA"
      },
      "execution_count": null,
      "outputs": []
    },
    {
      "cell_type": "code",
      "source": [
        "#list(student.items())[i][1][1]"
      ],
      "metadata": {
        "id": "v7ILHDPvOV_0"
      },
      "execution_count": null,
      "outputs": []
    },
    {
      "cell_type": "code",
      "source": [
        "age_stu=sorted ( student.items() , key=lambda x: x[1][1] )\n",
        "for i in age_stu :\n",
        "  print(i)"
      ],
      "metadata": {
        "id": "9RQOb5BjOJqg"
      },
      "execution_count": null,
      "outputs": []
    },
    {
      "cell_type": "code",
      "source": [
        "sorted ( student.items() , key=lambda x: x[1][2] )"
      ],
      "metadata": {
        "id": "KgYhxZ73PKIX"
      },
      "execution_count": null,
      "outputs": []
    },
    {
      "cell_type": "code",
      "source": [
        "# مرتب بر اساس حرف دوم اسم"
      ],
      "metadata": {
        "id": "kPmGKPMGQNgp"
      },
      "execution_count": null,
      "outputs": []
    },
    {
      "cell_type": "code",
      "source": [
        "sorted ( student.items() , key=lambda x: x[0][1] )"
      ],
      "metadata": {
        "id": "kI97SMRZQP5t"
      },
      "execution_count": null,
      "outputs": []
    },
    {
      "cell_type": "code",
      "source": [
        "list2=['mahsa', 1892, 340, 3500]"
      ],
      "metadata": {
        "id": "N31As143Qjb5"
      },
      "execution_count": null,
      "outputs": []
    },
    {
      "cell_type": "code",
      "source": [
        "def func (x):\n",
        "  name = x[0]\n",
        "  s = sum(x[1:])\n",
        "  print(f\"name :{name} , salary :{s} \")\n",
        "\n",
        "func(list2)"
      ],
      "metadata": {
        "id": "0Po0xD0RQW74"
      },
      "execution_count": null,
      "outputs": []
    },
    {
      "cell_type": "code",
      "source": [
        "def func2 (a,*x):\n",
        "  name = a\n",
        "  s = sum(x)\n",
        "  print(f\"name :{name} , salary :{s} \")\n",
        "\n",
        "func2('mahsa', 1892, 340, 3500,1003,2124)"
      ],
      "metadata": {
        "id": "uUTz8FhxQvpQ"
      },
      "execution_count": null,
      "outputs": []
    },
    {
      "cell_type": "code",
      "source": [
        "a,*x = 'mahsa', 1892, 340, 3500\n",
        "print(x)"
      ],
      "metadata": {
        "id": "nyqDZaW-RqIq"
      },
      "execution_count": null,
      "outputs": []
    },
    {
      "cell_type": "code",
      "source": [
        "print(*x ,sep=\" % \")"
      ],
      "metadata": {
        "id": "eVhSSF_NRzEY"
      },
      "execution_count": null,
      "outputs": []
    },
    {
      "cell_type": "code",
      "source": [
        "from my_sqrt import func_sqrt"
      ],
      "metadata": {
        "id": "tf7VKaM_SapY"
      },
      "execution_count": null,
      "outputs": []
    },
    {
      "cell_type": "code",
      "source": [
        "func_sqrt(16,81)"
      ],
      "metadata": {
        "id": "o9gL6sLeUIYR"
      },
      "execution_count": null,
      "outputs": []
    },
    {
      "cell_type": "code",
      "source": [],
      "metadata": {
        "id": "LqXaI8ykURHf"
      },
      "execution_count": null,
      "outputs": []
    },
    {
      "cell_type": "code",
      "source": [],
      "metadata": {
        "id": "jH5IdgSMXmvJ"
      },
      "execution_count": null,
      "outputs": []
    },
    {
      "cell_type": "code",
      "source": [
        "# join 2 dict\n",
        "s1 = {\n",
        "    \"ali\":[19,24,2800]\n",
        "}\n",
        "s2 = {\n",
        "    \"reza\":[15,22,3800] ,\n",
        "    \"mahsa\":[189,34,3500]\n",
        "\n",
        "}\n",
        "\n",
        "s1.update(s2)\n"
      ],
      "metadata": {
        "id": "cqcBzVw_Ywz4"
      },
      "execution_count": null,
      "outputs": []
    },
    {
      "cell_type": "code",
      "source": [
        "s1"
      ],
      "metadata": {
        "id": "ZNMz7igWYwz4"
      },
      "execution_count": null,
      "outputs": []
    },
    {
      "cell_type": "code",
      "source": [
        "s2"
      ],
      "metadata": {
        "id": "jhohvXLRZlwM"
      },
      "execution_count": null,
      "outputs": []
    },
    {
      "cell_type": "code",
      "source": [
        "# delete a key from dict\n",
        "del s1[\"ali\"]"
      ],
      "metadata": {
        "id": "iC8BNP7zYwz5"
      },
      "execution_count": null,
      "outputs": []
    },
    {
      "cell_type": "code",
      "source": [
        "s1"
      ],
      "metadata": {
        "id": "Ht7P6URFYwz5"
      },
      "execution_count": null,
      "outputs": []
    },
    {
      "cell_type": "code",
      "source": [
        "del s1"
      ],
      "metadata": {
        "id": "WxbjNAIfdxcB"
      },
      "execution_count": null,
      "outputs": []
    },
    {
      "cell_type": "code",
      "source": [
        "s1"
      ],
      "metadata": {
        "id": "Kyq83Ua1dy1f"
      },
      "execution_count": null,
      "outputs": []
    },
    {
      "cell_type": "markdown",
      "source": [
        "## sets"
      ],
      "metadata": {
        "id": "z7F9I0PTXmyi"
      }
    },
    {
      "cell_type": "code",
      "source": [
        "#  | & - s.update(s2) string.format"
      ],
      "metadata": {
        "id": "OOu0qoxbXoOh"
      },
      "execution_count": null,
      "outputs": []
    },
    {
      "cell_type": "code",
      "source": [
        "s1 = { 1,2,3,4,1 }\n",
        "s2 = { 3,4,5,6 }"
      ],
      "metadata": {
        "id": "Qn0iV1vhZ0rm"
      },
      "execution_count": null,
      "outputs": []
    },
    {
      "cell_type": "code",
      "source": [
        "s1"
      ],
      "metadata": {
        "id": "eIjzK3AaaaN2"
      },
      "execution_count": null,
      "outputs": []
    },
    {
      "cell_type": "code",
      "source": [
        "list(s1)[2:]"
      ],
      "metadata": {
        "id": "uhwMd5EKeEJ4"
      },
      "execution_count": null,
      "outputs": []
    },
    {
      "cell_type": "code",
      "source": [
        "type(s1)"
      ],
      "metadata": {
        "id": "ytfYhxQ9Z0wW"
      },
      "execution_count": null,
      "outputs": []
    },
    {
      "cell_type": "code",
      "source": [
        "s1 | s2"
      ],
      "metadata": {
        "id": "iuuv6V2UaUDv"
      },
      "execution_count": null,
      "outputs": []
    },
    {
      "cell_type": "code",
      "source": [
        "s1 & s2"
      ],
      "metadata": {
        "id": "dmbbL7m4aX1S"
      },
      "execution_count": null,
      "outputs": []
    },
    {
      "cell_type": "code",
      "source": [
        "s1 - s2"
      ],
      "metadata": {
        "id": "MSNkVvRnakII"
      },
      "execution_count": null,
      "outputs": []
    },
    {
      "cell_type": "code",
      "source": [
        "(s1 - s2 ) | (s2 - s1)"
      ],
      "metadata": {
        "id": "4OknPdAJa0Gz"
      },
      "execution_count": null,
      "outputs": []
    },
    {
      "cell_type": "code",
      "source": [
        "(s1 | s2) - (s1 & s2)"
      ],
      "metadata": {
        "id": "866q9TKVeksI"
      },
      "execution_count": null,
      "outputs": []
    },
    {
      "cell_type": "code",
      "source": [
        "s2 ^ s1"
      ],
      "metadata": {
        "id": "zB2gYheBan7c"
      },
      "execution_count": null,
      "outputs": []
    },
    {
      "cell_type": "code",
      "source": [
        "s1.update(s2)\n",
        "# s1 = s1 | s2"
      ],
      "metadata": {
        "id": "pH2Pn_U7a-WX"
      },
      "execution_count": null,
      "outputs": []
    },
    {
      "cell_type": "code",
      "source": [
        "s1"
      ],
      "metadata": {
        "id": "pDK-b3LGatyW"
      },
      "execution_count": null,
      "outputs": []
    },
    {
      "cell_type": "code",
      "source": [
        "s1.remove(1)"
      ],
      "metadata": {
        "id": "hOltknbmbHTJ"
      },
      "execution_count": null,
      "outputs": []
    },
    {
      "cell_type": "code",
      "source": [
        "s1"
      ],
      "metadata": {
        "id": "qOGAYxDobJlL"
      },
      "execution_count": null,
      "outputs": []
    },
    {
      "cell_type": "code",
      "source": [
        "l1 = list(range(10))\n",
        "l2  = list(range(5,15))\n",
        "l1"
      ],
      "metadata": {
        "id": "X_bmuEJZbRaR"
      },
      "execution_count": null,
      "outputs": []
    },
    {
      "cell_type": "code",
      "source": [
        "l2"
      ],
      "metadata": {
        "id": "xqv12GLJbYYR"
      },
      "execution_count": null,
      "outputs": []
    },
    {
      "cell_type": "code",
      "source": [
        "list(  set(l1) | set(l2)   )"
      ],
      "metadata": {
        "id": "JEuJK4PsbeOE"
      },
      "execution_count": null,
      "outputs": []
    },
    {
      "cell_type": "code",
      "source": [
        "list(  set(l1) & set(l2)   )"
      ],
      "metadata": {
        "id": "8ETwfiRzbrFP"
      },
      "execution_count": null,
      "outputs": []
    },
    {
      "cell_type": "code",
      "source": [],
      "metadata": {
        "id": "XAtMxutTbwzM"
      },
      "execution_count": null,
      "outputs": []
    },
    {
      "cell_type": "code",
      "source": [
        "reza= [15,22,3800]"
      ],
      "metadata": {
        "id": "bvI_Ulq6b2t1"
      },
      "execution_count": null,
      "outputs": []
    },
    {
      "cell_type": "code",
      "source": [
        "f\"reza age :{reza[0]} , income {reza[-1]}\""
      ],
      "metadata": {
        "id": "Uf-xOCsifIRX"
      },
      "execution_count": null,
      "outputs": []
    },
    {
      "cell_type": "code",
      "source": [
        "s= \"reza age :{} , income {}\".format(reza[0] , reza[-1])"
      ],
      "metadata": {
        "id": "jl24tnFtcLQR"
      },
      "execution_count": null,
      "outputs": []
    },
    {
      "cell_type": "code",
      "source": [
        "s"
      ],
      "metadata": {
        "id": "X5pyoBfPcNvu"
      },
      "execution_count": null,
      "outputs": []
    },
    {
      "cell_type": "code",
      "source": [
        "print(\"reza age :{} , income {}\".format(reza[0] , reza[-1]))"
      ],
      "metadata": {
        "id": "oiIiEHPmb3Xr"
      },
      "execution_count": null,
      "outputs": []
    },
    {
      "cell_type": "code",
      "source": [
        "from format1 import format"
      ],
      "metadata": {
        "id": "HFDBT317cImO"
      },
      "execution_count": null,
      "outputs": []
    },
    {
      "cell_type": "code",
      "source": [
        "format(24,26)"
      ],
      "metadata": {
        "id": "CHQfknrkf4Qw"
      },
      "execution_count": null,
      "outputs": []
    },
    {
      "cell_type": "code",
      "source": [],
      "metadata": {
        "id": "7YBx0mgtgMUV"
      },
      "execution_count": null,
      "outputs": []
    },
    {
      "cell_type": "code",
      "source": [],
      "metadata": {
        "id": "xeiqBrTdhKmw"
      },
      "execution_count": null,
      "outputs": []
    },
    {
      "cell_type": "code",
      "source": [
        "s1 = {\n",
        "    \"ali\":[19,24,2800],\n",
        "    \"reza\":[15,22,3800] ,\n",
        "    \"mahsa\":[189,34,3500]\n",
        "\n",
        "}\n",
        "\n",
        "\n",
        "name , *values = input().split()"
      ],
      "metadata": {
        "id": "9z6y4GvYhKrf"
      },
      "execution_count": null,
      "outputs": []
    },
    {
      "cell_type": "code",
      "source": [
        "name"
      ],
      "metadata": {
        "id": "RF79eIMKheN5"
      },
      "execution_count": null,
      "outputs": []
    },
    {
      "cell_type": "code",
      "source": [
        "type(values[0])"
      ],
      "metadata": {
        "id": "qxzm3TuChj6K"
      },
      "execution_count": null,
      "outputs": []
    },
    {
      "cell_type": "code",
      "source": [
        "values=list(map( int , values))\n",
        "values"
      ],
      "metadata": {
        "id": "vEyJA4IjhlXV"
      },
      "execution_count": null,
      "outputs": []
    },
    {
      "cell_type": "code",
      "source": [
        "#s1[\"key\"] = values\n",
        "s1[name] = values"
      ],
      "metadata": {
        "id": "zPJBTQ9Th0zN"
      },
      "execution_count": null,
      "outputs": []
    },
    {
      "cell_type": "code",
      "source": [
        "s1"
      ],
      "metadata": {
        "id": "9dT-zPCliEBu"
      },
      "execution_count": null,
      "outputs": []
    },
    {
      "cell_type": "code",
      "source": [
        "name_score = list()\n",
        "for i in range(5):\n",
        "  temp=input().split()\n",
        "  name_score.append([temp[0],float(temp[1])])\n",
        "\n",
        "name_score"
      ],
      "metadata": {
        "id": "Fpgvj3bZiE1n"
      },
      "execution_count": null,
      "outputs": []
    },
    {
      "cell_type": "code",
      "source": [
        "d = dict()\n",
        "for k,v in name_score:\n",
        "\n",
        "  if v > 17 :\n",
        "    continue\n",
        "\n",
        "  d[k]=v\n",
        "\n",
        "else:print(d)"
      ],
      "metadata": {
        "id": "GVWyMwZIimWF"
      },
      "execution_count": null,
      "outputs": []
    },
    {
      "cell_type": "code",
      "source": [
        "d.items()"
      ],
      "metadata": {
        "id": "vbSk4AEHkP0J"
      },
      "execution_count": null,
      "outputs": []
    },
    {
      "cell_type": "code",
      "source": [
        "('ali', 15.5)[0][2]"
      ],
      "metadata": {
        "id": "jl52YV-zklBB"
      },
      "execution_count": null,
      "outputs": []
    },
    {
      "cell_type": "code",
      "source": [
        "# مرتب بر اساس نمره\n",
        "sorted( d.items() ,key=lambda x:x[1] )"
      ],
      "metadata": {
        "id": "pQpfk0T9jLjc"
      },
      "execution_count": null,
      "outputs": []
    },
    {
      "cell_type": "code",
      "source": [
        "# مرتب بر اساس حرف سوم اسم\n",
        "sorted( d.items() ,key=lambda x:x[0][2] )"
      ],
      "metadata": {
        "id": "dFOEQ1n8khHA"
      },
      "execution_count": null,
      "outputs": []
    }
  ]
}